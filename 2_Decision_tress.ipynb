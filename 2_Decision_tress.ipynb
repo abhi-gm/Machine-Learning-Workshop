{
  "nbformat": 4,
  "nbformat_minor": 0,
  "metadata": {
    "colab": {
      "name": "2. Decision tress.ipynb",
      "provenance": [],
      "collapsed_sections": [],
      "include_colab_link": true
    },
    "kernelspec": {
      "name": "python3",
      "display_name": "Python 3"
    }
  },
  "cells": [
    {
      "cell_type": "markdown",
      "metadata": {
        "id": "view-in-github",
        "colab_type": "text"
      },
      "source": [
        "<a href=\"https://colab.research.google.com/github/abhi-gm/Machine-Learning-Workshop/blob/Classical-Machine-Learning/2_Decision_tress.ipynb\" target=\"_parent\"><img src=\"https://colab.research.google.com/assets/colab-badge.svg\" alt=\"Open In Colab\"/></a>"
      ]
    },
    {
      "cell_type": "markdown",
      "metadata": {
        "id": "X2VgBjf2Ve3R"
      },
      "source": [
        "# **2. Decision tress**"
      ]
    },
    {
      "cell_type": "markdown",
      "metadata": {
        "id": "O1tbSL2t_LeV"
      },
      "source": [
        "##**1.Abstract**\n",
        "\n",
        "**Churn rate**, is the rate at which customers stop doing business with an entity. It is most commonly expressed as the percentage of service subscribers who discontinue their subscriptions within a given time. The notebook aims to do prediction whether a customer will churn or not."
      ]
    },
    {
      "cell_type": "markdown",
      "metadata": {
        "id": "uQ3cPdVU_2lw"
      },
      "source": [
        "## **2.Importing necessary libraries**"
      ]
    },
    {
      "cell_type": "code",
      "metadata": {
        "id": "yWKfRtlWVX6a",
        "colab": {
          "base_uri": "https://localhost:8080/"
        },
        "outputId": "e485918f-4c9f-4358-c8c4-e44e32c19f31"
      },
      "source": [
        "import sklearn\n",
        "import pandas as pd\n",
        "import numpy as np\n",
        "from sklearn.tree import DecisionTreeClassifier\n",
        "from pandas import DataFrame\n",
        "\n",
        "from sklearn.externals.six import StringIO  \n",
        "from IPython.display import Image  \n",
        "from sklearn.tree import export_graphviz\n",
        "import pydotplus"
      ],
      "execution_count": 1,
      "outputs": [
        {
          "output_type": "stream",
          "text": [
            "/usr/local/lib/python3.7/dist-packages/sklearn/externals/six.py:31: FutureWarning: The module is deprecated in version 0.21 and will be removed in version 0.23 since we've dropped support for Python 2.7. Please rely on the official version of six (https://pypi.org/project/six/).\n",
            "  \"(https://pypi.org/project/six/).\", FutureWarning)\n"
          ],
          "name": "stderr"
        }
      ]
    },
    {
      "cell_type": "markdown",
      "metadata": {
        "id": "XOkqkBluAOko"
      },
      "source": [
        "## **3. Import the data from Github**"
      ]
    },
    {
      "cell_type": "code",
      "metadata": {
        "id": "0z0j6a60tWHR"
      },
      "source": [
        "url =  'https://raw.githubusercontent.com/abhi-gm/Machine-Learning-Workshop/main/Datasets/Churn.csv'\n",
        "data = pd.read_csv(url, error_bad_lines=False)"
      ],
      "execution_count": 3,
      "outputs": []
    },
    {
      "cell_type": "code",
      "metadata": {
        "id": "m52UrCXstqeo",
        "colab": {
          "base_uri": "https://localhost:8080/",
          "height": 306
        },
        "outputId": "dc78d8e3-c196-4a85-cb99-285b239f8ba0"
      },
      "source": [
        "data.head()"
      ],
      "execution_count": 4,
      "outputs": [
        {
          "output_type": "execute_result",
          "data": {
            "text/html": [
              "<div>\n",
              "<style scoped>\n",
              "    .dataframe tbody tr th:only-of-type {\n",
              "        vertical-align: middle;\n",
              "    }\n",
              "\n",
              "    .dataframe tbody tr th {\n",
              "        vertical-align: top;\n",
              "    }\n",
              "\n",
              "    .dataframe thead th {\n",
              "        text-align: right;\n",
              "    }\n",
              "</style>\n",
              "<table border=\"1\" class=\"dataframe\">\n",
              "  <thead>\n",
              "    <tr style=\"text-align: right;\">\n",
              "      <th></th>\n",
              "      <th>CustomerID</th>\n",
              "      <th>Gender</th>\n",
              "      <th>Senior Citizen</th>\n",
              "      <th>Partner</th>\n",
              "      <th>Dependents</th>\n",
              "      <th>Tenure</th>\n",
              "      <th>Phone Service</th>\n",
              "      <th>Multiple Lines</th>\n",
              "      <th>Internet Service</th>\n",
              "      <th>Online Security</th>\n",
              "      <th>Online Backup</th>\n",
              "      <th>Device Protection</th>\n",
              "      <th>Tech Support</th>\n",
              "      <th>Streaming TV</th>\n",
              "      <th>Streaming Movies</th>\n",
              "      <th>Contract</th>\n",
              "      <th>Paperless Billing</th>\n",
              "      <th>Payment Method</th>\n",
              "      <th>Monthly Charges</th>\n",
              "      <th>Total Charges</th>\n",
              "      <th>Churn</th>\n",
              "    </tr>\n",
              "  </thead>\n",
              "  <tbody>\n",
              "    <tr>\n",
              "      <th>0</th>\n",
              "      <td>7590-VHVEG</td>\n",
              "      <td>Female</td>\n",
              "      <td>0</td>\n",
              "      <td>Yes</td>\n",
              "      <td>No</td>\n",
              "      <td>1</td>\n",
              "      <td>No</td>\n",
              "      <td>No phone service</td>\n",
              "      <td>DSL</td>\n",
              "      <td>No</td>\n",
              "      <td>Yes</td>\n",
              "      <td>No</td>\n",
              "      <td>No</td>\n",
              "      <td>No</td>\n",
              "      <td>No</td>\n",
              "      <td>Month-to-month</td>\n",
              "      <td>Yes</td>\n",
              "      <td>Electronic check</td>\n",
              "      <td>29.85</td>\n",
              "      <td>29.85</td>\n",
              "      <td>No</td>\n",
              "    </tr>\n",
              "    <tr>\n",
              "      <th>1</th>\n",
              "      <td>5575-GNVDE</td>\n",
              "      <td>Male</td>\n",
              "      <td>0</td>\n",
              "      <td>No</td>\n",
              "      <td>No</td>\n",
              "      <td>34</td>\n",
              "      <td>Yes</td>\n",
              "      <td>No</td>\n",
              "      <td>DSL</td>\n",
              "      <td>Yes</td>\n",
              "      <td>No</td>\n",
              "      <td>Yes</td>\n",
              "      <td>No</td>\n",
              "      <td>No</td>\n",
              "      <td>No</td>\n",
              "      <td>One year</td>\n",
              "      <td>No</td>\n",
              "      <td>Mailed check</td>\n",
              "      <td>56.95</td>\n",
              "      <td>1889.50</td>\n",
              "      <td>No</td>\n",
              "    </tr>\n",
              "    <tr>\n",
              "      <th>2</th>\n",
              "      <td>3668-QPYBK</td>\n",
              "      <td>Male</td>\n",
              "      <td>0</td>\n",
              "      <td>No</td>\n",
              "      <td>No</td>\n",
              "      <td>2</td>\n",
              "      <td>Yes</td>\n",
              "      <td>No</td>\n",
              "      <td>DSL</td>\n",
              "      <td>Yes</td>\n",
              "      <td>Yes</td>\n",
              "      <td>No</td>\n",
              "      <td>No</td>\n",
              "      <td>No</td>\n",
              "      <td>No</td>\n",
              "      <td>Month-to-month</td>\n",
              "      <td>Yes</td>\n",
              "      <td>Mailed check</td>\n",
              "      <td>53.85</td>\n",
              "      <td>108.15</td>\n",
              "      <td>Yes</td>\n",
              "    </tr>\n",
              "    <tr>\n",
              "      <th>3</th>\n",
              "      <td>7795-CFOCW</td>\n",
              "      <td>Male</td>\n",
              "      <td>0</td>\n",
              "      <td>No</td>\n",
              "      <td>No</td>\n",
              "      <td>45</td>\n",
              "      <td>No</td>\n",
              "      <td>No phone service</td>\n",
              "      <td>DSL</td>\n",
              "      <td>Yes</td>\n",
              "      <td>No</td>\n",
              "      <td>Yes</td>\n",
              "      <td>Yes</td>\n",
              "      <td>No</td>\n",
              "      <td>No</td>\n",
              "      <td>One year</td>\n",
              "      <td>No</td>\n",
              "      <td>Bank transfer (automatic)</td>\n",
              "      <td>42.30</td>\n",
              "      <td>1840.75</td>\n",
              "      <td>No</td>\n",
              "    </tr>\n",
              "    <tr>\n",
              "      <th>4</th>\n",
              "      <td>9237-HQITU</td>\n",
              "      <td>Female</td>\n",
              "      <td>0</td>\n",
              "      <td>No</td>\n",
              "      <td>No</td>\n",
              "      <td>2</td>\n",
              "      <td>Yes</td>\n",
              "      <td>No</td>\n",
              "      <td>Fiber optic</td>\n",
              "      <td>No</td>\n",
              "      <td>No</td>\n",
              "      <td>No</td>\n",
              "      <td>No</td>\n",
              "      <td>No</td>\n",
              "      <td>No</td>\n",
              "      <td>Month-to-month</td>\n",
              "      <td>Yes</td>\n",
              "      <td>Electronic check</td>\n",
              "      <td>70.70</td>\n",
              "      <td>151.65</td>\n",
              "      <td>Yes</td>\n",
              "    </tr>\n",
              "  </tbody>\n",
              "</table>\n",
              "</div>"
            ],
            "text/plain": [
              "   CustomerID  Gender  Senior Citizen  ... Monthly Charges Total Charges  Churn\n",
              "0  7590-VHVEG  Female               0  ...           29.85         29.85     No\n",
              "1  5575-GNVDE    Male               0  ...           56.95       1889.50     No\n",
              "2  3668-QPYBK    Male               0  ...           53.85        108.15    Yes\n",
              "3  7795-CFOCW    Male               0  ...           42.30       1840.75     No\n",
              "4  9237-HQITU  Female               0  ...           70.70        151.65    Yes\n",
              "\n",
              "[5 rows x 21 columns]"
            ]
          },
          "metadata": {
            "tags": []
          },
          "execution_count": 4
        }
      ]
    },
    {
      "cell_type": "code",
      "metadata": {
        "id": "K2OtA0JSA2xw",
        "colab": {
          "base_uri": "https://localhost:8080/"
        },
        "outputId": "aa4d5880-0ed4-422d-bdde-65a6f8eb0f49"
      },
      "source": [
        "data.shape"
      ],
      "execution_count": 5,
      "outputs": [
        {
          "output_type": "execute_result",
          "data": {
            "text/plain": [
              "(6499, 21)"
            ]
          },
          "metadata": {
            "tags": []
          },
          "execution_count": 5
        }
      ]
    },
    {
      "cell_type": "markdown",
      "metadata": {
        "id": "IBbHsYoIAXfX"
      },
      "source": [
        "## **4.Preprocessing the data**"
      ]
    },
    {
      "cell_type": "markdown",
      "metadata": {
        "id": "E4l7MFMh6eES"
      },
      "source": [
        "### **4.1.Droping unique columns**"
      ]
    },
    {
      "cell_type": "code",
      "metadata": {
        "id": "I64oHnDs6cvq"
      },
      "source": [
        "data = data.drop('CustomerID',axis =1)"
      ],
      "execution_count": null,
      "outputs": []
    },
    {
      "cell_type": "markdown",
      "metadata": {
        "id": "hsfQJUsQAjOb"
      },
      "source": [
        "### **4.2.Encoding the categorical columns**"
      ]
    },
    {
      "cell_type": "code",
      "metadata": {
        "id": "pm3_wxWa6sxm"
      },
      "source": [
        "data.dtypes"
      ],
      "execution_count": null,
      "outputs": []
    },
    {
      "cell_type": "code",
      "metadata": {
        "id": "Qpul2AA87Yp9"
      },
      "source": [
        "categorical_columns = data.select_dtypes(include=['object']).columns\n",
        "\n",
        "continous_columns = data.select_dtypes(exclude=['object']).columns\n"
      ],
      "execution_count": null,
      "outputs": []
    },
    {
      "cell_type": "code",
      "metadata": {
        "id": "cNSuo1o18DC3"
      },
      "source": [
        "#the categorical columns\n",
        "categorical_columns"
      ],
      "execution_count": null,
      "outputs": []
    },
    {
      "cell_type": "code",
      "metadata": {
        "id": "3Io1kDfq7nx3"
      },
      "source": [
        "#making categorical columns into categorical data type\n",
        "data[categorical_columns] = data[categorical_columns].astype('category')"
      ],
      "execution_count": null,
      "outputs": []
    },
    {
      "cell_type": "code",
      "metadata": {
        "id": "D9RX6Si28Tjq"
      },
      "source": [
        "data.dtypes"
      ],
      "execution_count": null,
      "outputs": []
    },
    {
      "cell_type": "code",
      "metadata": {
        "id": "Imb4HuZl8Wd-"
      },
      "source": [
        "#dictionary to store mapping\n",
        "col_cat_dict = {}\n",
        "#numerical encoding the catecogrical columns using function cat codes\n",
        "for col in categorical_columns:\n",
        "  col_cat_dict[col] = dict(enumerate(data[col].cat.categories))\n",
        "  data[col] = data[col].cat.codes\n",
        "  data[col] = data[col].astype('category')"
      ],
      "execution_count": null,
      "outputs": []
    },
    {
      "cell_type": "code",
      "metadata": {
        "id": "njD5JFenX6Ix"
      },
      "source": [
        "col_cat_dict"
      ],
      "execution_count": null,
      "outputs": []
    },
    {
      "cell_type": "code",
      "metadata": {
        "id": "YoR1MJ8Zl31V"
      },
      "source": [
        "data.dtypes"
      ],
      "execution_count": null,
      "outputs": []
    },
    {
      "cell_type": "code",
      "metadata": {
        "id": "vVp_bBZ-88S1"
      },
      "source": [
        "data.head()"
      ],
      "execution_count": null,
      "outputs": []
    },
    {
      "cell_type": "markdown",
      "metadata": {
        "id": "6Jx5brsmF43P"
      },
      "source": [
        "## **4.3 Handling missing values**"
      ]
    },
    {
      "cell_type": "markdown",
      "metadata": {
        "id": "m_fg3KJaG0Gs"
      },
      "source": [
        "Filling the NaN values for the categorical column with mode\n",
        " \n",
        "Filling the NAN vaules for the continous columns with mean"
      ]
    },
    {
      "cell_type": "code",
      "metadata": {
        "id": "65SuR9eUF-GI"
      },
      "source": [
        "for col in categorical_columns:\n",
        "  data[col] = data[col].fillna(data[col].mode())\n",
        "\n",
        "for col in continous_columns:\n",
        "  data[col] = data[col].fillna(data[col].mean())"
      ],
      "execution_count": null,
      "outputs": []
    },
    {
      "cell_type": "code",
      "metadata": {
        "id": "Xsj9YsbXJHQj"
      },
      "source": [
        "#Checking wether there is any NAN values\n",
        "data.isnull().sum() "
      ],
      "execution_count": null,
      "outputs": []
    },
    {
      "cell_type": "markdown",
      "metadata": {
        "id": "SawDJg_e90dq"
      },
      "source": [
        "## **5.Training to get the variable importance**"
      ]
    },
    {
      "cell_type": "code",
      "metadata": {
        "id": "dKfEnMtO90pz"
      },
      "source": [
        "feature = data.columns.tolist()\n",
        "feature.remove('Churn')\n",
        "\n",
        "X = data[ feature]\n",
        "\n",
        "y = data['Churn']"
      ],
      "execution_count": null,
      "outputs": []
    },
    {
      "cell_type": "code",
      "metadata": {
        "id": "4uTsHffv3TCh"
      },
      "source": [
        "dtree=DecisionTreeClassifier()\n",
        "dtree.fit(X,y)"
      ],
      "execution_count": null,
      "outputs": []
    },
    {
      "cell_type": "markdown",
      "metadata": {
        "id": "heybKfNRSHcu"
      },
      "source": [
        "## **6.1.Feature Importance**"
      ]
    },
    {
      "cell_type": "code",
      "metadata": {
        "id": "LEnfN2sJiMjT"
      },
      "source": [
        "importance = dtree.feature_importances_\n",
        "from matplotlib import pyplot\n",
        "\n",
        "for i,v in enumerate(importance):\n",
        "\tprint('Feature: %0d, Score: %.5f' % (i,v))\n",
        "\n",
        "\n",
        "pyplot.bar([x for x in range(len(importance))], importance)\n",
        "pyplot.show()\n",
        "var_imp = importance.tolist()"
      ],
      "execution_count": null,
      "outputs": []
    },
    {
      "cell_type": "code",
      "metadata": {
        "id": "H1mIw53_-2J4"
      },
      "source": [
        "feature = data.columns.tolist()\n",
        "feature.remove('Churn')\n",
        "\n",
        "df_varimp =  DataFrame (feature,columns=['Features'])\n",
        "df_varimp[\"var_imp\"] =var_imp\n",
        "df_varimp_sorted=df_varimp.sort_values(by=['var_imp'],ascending=False)\n",
        "df_varimp_sorted\n",
        "\n"
      ],
      "execution_count": null,
      "outputs": []
    },
    {
      "cell_type": "markdown",
      "metadata": {
        "id": "bAtVsh-yS0cJ"
      },
      "source": [
        "## **6.2.Feature Selection**\n",
        "\n",
        "thres is set 0.05 which configurable"
      ]
    },
    {
      "cell_type": "code",
      "metadata": {
        "id": "A1H_6Zar-sc3"
      },
      "source": [
        "thres = 0.05\n",
        "imp_data = df_varimp_sorted[df_varimp_sorted['var_imp']>thres]\n",
        "feat = imp_data['Features']\n"
      ],
      "execution_count": null,
      "outputs": []
    },
    {
      "cell_type": "code",
      "metadata": {
        "id": "nsB_-H-H-si_"
      },
      "source": [
        "data [feat]"
      ],
      "execution_count": null,
      "outputs": []
    },
    {
      "cell_type": "markdown",
      "metadata": {
        "id": "C9MkiEAWCNyO"
      },
      "source": [
        "### **7.1.Train ,Validation and Test split**\n",
        "\n",
        "Data is split into 3 parts\n",
        "\n",
        "Taining data set = 80.75%\n",
        "\n",
        "Validation data set = 14.25%\n",
        "\n",
        "Test data set = 5%"
      ]
    },
    {
      "cell_type": "code",
      "metadata": {
        "id": "kabmiPUVCX0O"
      },
      "source": [
        "from sklearn.model_selection import  train_test_split\n",
        "\n",
        "columns = data[feat].columns\n",
        "\n",
        "X = data[feat]\n",
        "\n",
        "y = data['Churn']\n",
        "\n",
        "X_t, X_test, y_t, y_test = train_test_split(X, y, test_size=0.05, random_state=1)\n",
        "\n",
        "X_train, X_val, y_train, y_val = train_test_split(X_t, y_t, test_size=0.15, random_state=1)"
      ],
      "execution_count": null,
      "outputs": []
    },
    {
      "cell_type": "markdown",
      "metadata": {
        "id": "UVh5r_sdBUFg"
      },
      "source": [
        "### **7.2.Processing data for decision tree**"
      ]
    },
    {
      "cell_type": "code",
      "metadata": {
        "id": "Gd2X4rCBtrf1"
      },
      "source": [
        "feature = data.columns\n",
        "y = data['Churn']\n",
        "data = data.drop(('Churn'),axis = 1)\n",
        "data = data.fillna(0)"
      ],
      "execution_count": null,
      "outputs": []
    },
    {
      "cell_type": "markdown",
      "metadata": {
        "id": "00NlUx779OIg"
      },
      "source": [
        "## **8. Tunning the Hyperparmeter**\n",
        "\n",
        "Using grid search for Hyperparmeter tunning, even randomized grid search can be employed for doing grid search which will faster than normal grid search."
      ]
    },
    {
      "cell_type": "code",
      "metadata": {
        "id": "GKw9BouPRkQ5"
      },
      "source": [
        "from sklearn.model_selection import GridSearchCV"
      ],
      "execution_count": null,
      "outputs": []
    },
    {
      "cell_type": "code",
      "metadata": {
        "id": "FbHqyrLJR6Fm"
      },
      "source": [
        "depths = np.arange(2, 5)\n",
        "num_leafs = [ 20,30,40,50]\n",
        "nodes =np.arange(24, 30)\n",
        "criteria = ['entropy']\n",
        "split = ['best', 'random']"
      ],
      "execution_count": null,
      "outputs": []
    },
    {
      "cell_type": "code",
      "metadata": {
        "id": "CZ5TQHRmRtC6"
      },
      "source": [
        "param_grid = [{'max_depth':depths,\n",
        "              'min_samples_leaf':num_leafs,'max_leaf_nodes':nodes,'criterion':criteria}]"
      ],
      "execution_count": null,
      "outputs": []
    },
    {
      "cell_type": "code",
      "metadata": {
        "id": "LPH31Vk5R_4J"
      },
      "source": [
        "grid = GridSearchCV(dtree, param_grid, cv=10, scoring='accuracy',verbose=1)"
      ],
      "execution_count": null,
      "outputs": []
    },
    {
      "cell_type": "code",
      "metadata": {
        "id": "bNhb-bDTSPeL"
      },
      "source": [
        "s = grid.fit(X_val, y_val)"
      ],
      "execution_count": null,
      "outputs": []
    },
    {
      "cell_type": "code",
      "metadata": {
        "id": "XMRl8yMiSji0"
      },
      "source": [
        "# examine the best model\n",
        "\n",
        "# Single best score achieved across all params (min_samples_split)\n",
        "print(grid.best_score_)\n",
        "\n",
        "# Dictionary containing the parameters (min_samples_split) used to generate that score\n",
        "print(grid.best_params_)\n",
        "\n",
        "# Actual model object fit with those best parameters\n",
        "# Shows default parameters that we did not specify\n",
        "print(grid.best_estimator_)"
      ],
      "execution_count": null,
      "outputs": []
    },
    {
      "cell_type": "markdown",
      "metadata": {
        "id": "F1vZik-bTe8x"
      },
      "source": [
        "## **9. Training important Features**\n",
        "\n",
        "\n",
        "After the hyperparameter tunning\n",
        "\n",
        "**max_depth**: 3\n",
        "\n",
        "**max_leaf_nodes**: 24 \n",
        "\n",
        "**min_samples_leaf**: 50"
      ]
    },
    {
      "cell_type": "code",
      "metadata": {
        "id": "6Webfv5tXGMQ"
      },
      "source": [
        "dtree=DecisionTreeClassifier(max_depth= 3, max_leaf_nodes= 24, min_samples_leaf= 50,criterion='entropy')\n",
        "model = dtree.fit(X_train,y_train)"
      ],
      "execution_count": null,
      "outputs": []
    },
    {
      "cell_type": "code",
      "metadata": {
        "id": "XnKGeqZIW0nk"
      },
      "source": [
        "y_predicted = model.predict(X_test)\n",
        "# calculate accuracy\n",
        "from sklearn import metrics\n",
        "print(metrics.accuracy_score(y_test, y_predicted))\n"
      ],
      "execution_count": null,
      "outputs": []
    },
    {
      "cell_type": "code",
      "metadata": {
        "id": "j1wakVklYN5N"
      },
      "source": [
        "from sklearn.metrics import confusion_matrix\n",
        "confusion_matrix(y_test, y_predicted)"
      ],
      "execution_count": null,
      "outputs": []
    },
    {
      "cell_type": "code",
      "metadata": {
        "id": "CtVIQaiAcxgP"
      },
      "source": [
        "from sklearn.metrics import plot_confusion_matrix\n",
        "import matplotlib.pyplot as plt\n",
        "\n",
        "plot_confusion_matrix(model, X_test, y_test)  \n",
        "plt.show() "
      ],
      "execution_count": null,
      "outputs": []
    },
    {
      "cell_type": "markdown",
      "metadata": {
        "id": "pqk7g_8edy-y"
      },
      "source": [
        "## **10. Conclusion**\n",
        "\n",
        "So finally the model predictions is good and we can predict customer churn with 76% accuracy."
      ]
    },
    {
      "cell_type": "markdown",
      "metadata": {
        "id": "h3uCMzZydzHG"
      },
      "source": [
        "## **11.Reference**\n",
        "\n",
        "https://scikit-learn.org/stable/modules/tree.html\n",
        "\n",
        "Copyright 2020 Abhishek Gargha Maheshwarappa\n",
        "\n",
        "Permission is hereby granted, free of charge, to any person obtaining a copy of this software and associated documentation files (the \"Software\"), to deal in the Software without restriction, including without limitation the rights to use, copy, modify, merge, publish, distribute, sublicense, and/or sell copies of the Software, and to permit persons to whom the Software is furnished to do so, subject to the following conditions:\n",
        "\n",
        "The above copyright notice and this permission notice shall be included in all copies or substantial portions of the Software.\n",
        "\n",
        "THE SOFTWARE IS PROVIDED \"AS IS\", WITHOUT WARRANTY OF ANY KIND, EXPRESS OR IMPLIED, INCLUDING BUT NOT LIMITED TO THE WARRANTIES OF MERCHANTABILITY, FITNESS FOR A PARTICULAR PURPOSE AND NONINFRINGEMENT. IN NO EVENT SHALL THE AUTHORS OR COPYRIGHT HOLDERS BE LIABLE FOR ANY CLAIM, DAMAGES OR OTHER LIABILITY, WHETHER IN AN ACTION OF CONTRACT, TORT OR OTHERWISE, ARISING FROM, OUT OF OR IN CONNECTION WITH THE SOFTWARE OR THE USE OR OTHER DEALINGS IN THE SOFTWARE."
      ]
    }
  ]
}