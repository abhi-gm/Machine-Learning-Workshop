{
  "nbformat": 4,
  "nbformat_minor": 0,
  "metadata": {
    "colab": {
      "name": "2. Decision tress.ipynb",
      "provenance": [],
      "collapsed_sections": [],
      "include_colab_link": true
    },
    "kernelspec": {
      "name": "python3",
      "display_name": "Python 3"
    }
  },
  "cells": [
    {
      "cell_type": "markdown",
      "metadata": {
        "id": "view-in-github",
        "colab_type": "text"
      },
      "source": [
        "<a href=\"https://colab.research.google.com/github/abhi-gm/Machine-Learning-Workshop/blob/Classical-Machine-Learning/2_Decision_tress.ipynb\" target=\"_parent\"><img src=\"https://colab.research.google.com/assets/colab-badge.svg\" alt=\"Open In Colab\"/></a>"
      ]
    },
    {
      "cell_type": "markdown",
      "metadata": {
        "id": "X2VgBjf2Ve3R"
      },
      "source": [
        "# **2. Decision tress**"
      ]
    },
    {
      "cell_type": "markdown",
      "metadata": {
        "id": "O1tbSL2t_LeV"
      },
      "source": [
        "##**1.Abstract**\n",
        "\n",
        "**Churn rate**, is the rate at which customers stop doing business with an entity. It is most commonly expressed as the percentage of service subscribers who discontinue their subscriptions within a given time. The notebook aims to do prediction whether a customer will churn or not."
      ]
    },
    {
      "cell_type": "markdown",
      "metadata": {
        "id": "uQ3cPdVU_2lw"
      },
      "source": [
        "## **2.Importing necessary libraries**"
      ]
    },
    {
      "cell_type": "code",
      "metadata": {
        "id": "yWKfRtlWVX6a",
        "colab": {
          "base_uri": "https://localhost:8080/"
        },
        "outputId": "a94e2954-97a6-4f06-ea00-c8133ecb5205"
      },
      "source": [
        "import sklearn\n",
        "import pandas as pd\n",
        "import numpy as np\n",
        "from sklearn.tree import DecisionTreeClassifier\n",
        "from pandas import DataFrame\n",
        "\n",
        "from sklearn.externals.six import StringIO  \n",
        "from IPython.display import Image  \n",
        "from sklearn.tree import export_graphviz\n",
        "import pydotplus"
      ],
      "execution_count": 1,
      "outputs": [
        {
          "output_type": "stream",
          "text": [
            "/usr/local/lib/python3.7/dist-packages/sklearn/externals/six.py:31: FutureWarning: The module is deprecated in version 0.21 and will be removed in version 0.23 since we've dropped support for Python 2.7. Please rely on the official version of six (https://pypi.org/project/six/).\n",
            "  \"(https://pypi.org/project/six/).\", FutureWarning)\n"
          ],
          "name": "stderr"
        }
      ]
    },
    {
      "cell_type": "markdown",
      "metadata": {
        "id": "XOkqkBluAOko"
      },
      "source": [
        "## **3. Import the data from Github**"
      ]
    },
    {
      "cell_type": "code",
      "metadata": {
        "id": "0z0j6a60tWHR"
      },
      "source": [
        "url =  'https://raw.githubusercontent.com/abhi-gm/Machine-Learning-Workshop/main/Datasets/Churn.csv?token=ALKWD7ANY3GXARLZV63DLZLAL5GMG'\n",
        "data = pd.read_csv(url, error_bad_lines=False)"
      ],
      "execution_count": 35,
      "outputs": []
    },
    {
      "cell_type": "code",
      "metadata": {
        "id": "m52UrCXstqeo",
        "colab": {
          "base_uri": "https://localhost:8080/",
          "height": 347
        },
        "outputId": "9d446c07-80e5-442f-b119-1fd2c8dc8e36"
      },
      "source": [
        "data.head()"
      ],
      "execution_count": 3,
      "outputs": [
        {
          "output_type": "execute_result",
          "data": {
            "text/html": [
              "<div>\n",
              "<style scoped>\n",
              "    .dataframe tbody tr th:only-of-type {\n",
              "        vertical-align: middle;\n",
              "    }\n",
              "\n",
              "    .dataframe tbody tr th {\n",
              "        vertical-align: top;\n",
              "    }\n",
              "\n",
              "    .dataframe thead th {\n",
              "        text-align: right;\n",
              "    }\n",
              "</style>\n",
              "<table border=\"1\" class=\"dataframe\">\n",
              "  <thead>\n",
              "    <tr style=\"text-align: right;\">\n",
              "      <th></th>\n",
              "      <th>CustomerID</th>\n",
              "      <th>Gender</th>\n",
              "      <th>Senior Citizen</th>\n",
              "      <th>Partner</th>\n",
              "      <th>Dependents</th>\n",
              "      <th>Tenure</th>\n",
              "      <th>Phone Service</th>\n",
              "      <th>Multiple Lines</th>\n",
              "      <th>Internet Service</th>\n",
              "      <th>Online Security</th>\n",
              "      <th>Online Backup</th>\n",
              "      <th>Device Protection</th>\n",
              "      <th>Tech Support</th>\n",
              "      <th>Streaming TV</th>\n",
              "      <th>Streaming Movies</th>\n",
              "      <th>Contract</th>\n",
              "      <th>Paperless Billing</th>\n",
              "      <th>Payment Method</th>\n",
              "      <th>Monthly Charges</th>\n",
              "      <th>Total Charges</th>\n",
              "      <th>Churn</th>\n",
              "    </tr>\n",
              "  </thead>\n",
              "  <tbody>\n",
              "    <tr>\n",
              "      <th>0</th>\n",
              "      <td>7590-VHVEG</td>\n",
              "      <td>Female</td>\n",
              "      <td>0</td>\n",
              "      <td>Yes</td>\n",
              "      <td>No</td>\n",
              "      <td>1</td>\n",
              "      <td>No</td>\n",
              "      <td>No phone service</td>\n",
              "      <td>DSL</td>\n",
              "      <td>No</td>\n",
              "      <td>Yes</td>\n",
              "      <td>No</td>\n",
              "      <td>No</td>\n",
              "      <td>No</td>\n",
              "      <td>No</td>\n",
              "      <td>Month-to-month</td>\n",
              "      <td>Yes</td>\n",
              "      <td>Electronic check</td>\n",
              "      <td>29.85</td>\n",
              "      <td>29.85</td>\n",
              "      <td>No</td>\n",
              "    </tr>\n",
              "    <tr>\n",
              "      <th>1</th>\n",
              "      <td>5575-GNVDE</td>\n",
              "      <td>Male</td>\n",
              "      <td>0</td>\n",
              "      <td>No</td>\n",
              "      <td>No</td>\n",
              "      <td>34</td>\n",
              "      <td>Yes</td>\n",
              "      <td>No</td>\n",
              "      <td>DSL</td>\n",
              "      <td>Yes</td>\n",
              "      <td>No</td>\n",
              "      <td>Yes</td>\n",
              "      <td>No</td>\n",
              "      <td>No</td>\n",
              "      <td>No</td>\n",
              "      <td>One year</td>\n",
              "      <td>No</td>\n",
              "      <td>Mailed check</td>\n",
              "      <td>56.95</td>\n",
              "      <td>1889.50</td>\n",
              "      <td>No</td>\n",
              "    </tr>\n",
              "    <tr>\n",
              "      <th>2</th>\n",
              "      <td>3668-QPYBK</td>\n",
              "      <td>Male</td>\n",
              "      <td>0</td>\n",
              "      <td>No</td>\n",
              "      <td>No</td>\n",
              "      <td>2</td>\n",
              "      <td>Yes</td>\n",
              "      <td>No</td>\n",
              "      <td>DSL</td>\n",
              "      <td>Yes</td>\n",
              "      <td>Yes</td>\n",
              "      <td>No</td>\n",
              "      <td>No</td>\n",
              "      <td>No</td>\n",
              "      <td>No</td>\n",
              "      <td>Month-to-month</td>\n",
              "      <td>Yes</td>\n",
              "      <td>Mailed check</td>\n",
              "      <td>53.85</td>\n",
              "      <td>108.15</td>\n",
              "      <td>Yes</td>\n",
              "    </tr>\n",
              "    <tr>\n",
              "      <th>3</th>\n",
              "      <td>7795-CFOCW</td>\n",
              "      <td>Male</td>\n",
              "      <td>0</td>\n",
              "      <td>No</td>\n",
              "      <td>No</td>\n",
              "      <td>45</td>\n",
              "      <td>No</td>\n",
              "      <td>No phone service</td>\n",
              "      <td>DSL</td>\n",
              "      <td>Yes</td>\n",
              "      <td>No</td>\n",
              "      <td>Yes</td>\n",
              "      <td>Yes</td>\n",
              "      <td>No</td>\n",
              "      <td>No</td>\n",
              "      <td>One year</td>\n",
              "      <td>No</td>\n",
              "      <td>Bank transfer (automatic)</td>\n",
              "      <td>42.30</td>\n",
              "      <td>1840.75</td>\n",
              "      <td>No</td>\n",
              "    </tr>\n",
              "    <tr>\n",
              "      <th>4</th>\n",
              "      <td>9237-HQITU</td>\n",
              "      <td>Female</td>\n",
              "      <td>0</td>\n",
              "      <td>No</td>\n",
              "      <td>No</td>\n",
              "      <td>2</td>\n",
              "      <td>Yes</td>\n",
              "      <td>No</td>\n",
              "      <td>Fiber optic</td>\n",
              "      <td>No</td>\n",
              "      <td>No</td>\n",
              "      <td>No</td>\n",
              "      <td>No</td>\n",
              "      <td>No</td>\n",
              "      <td>No</td>\n",
              "      <td>Month-to-month</td>\n",
              "      <td>Yes</td>\n",
              "      <td>Electronic check</td>\n",
              "      <td>70.70</td>\n",
              "      <td>151.65</td>\n",
              "      <td>Yes</td>\n",
              "    </tr>\n",
              "  </tbody>\n",
              "</table>\n",
              "</div>"
            ],
            "text/plain": [
              "   CustomerID  Gender  Senior Citizen  ... Monthly Charges Total Charges  Churn\n",
              "0  7590-VHVEG  Female               0  ...           29.85         29.85     No\n",
              "1  5575-GNVDE    Male               0  ...           56.95       1889.50     No\n",
              "2  3668-QPYBK    Male               0  ...           53.85        108.15    Yes\n",
              "3  7795-CFOCW    Male               0  ...           42.30       1840.75     No\n",
              "4  9237-HQITU  Female               0  ...           70.70        151.65    Yes\n",
              "\n",
              "[5 rows x 21 columns]"
            ]
          },
          "metadata": {
            "tags": []
          },
          "execution_count": 3
        }
      ]
    },
    {
      "cell_type": "code",
      "metadata": {
        "id": "K2OtA0JSA2xw",
        "colab": {
          "base_uri": "https://localhost:8080/"
        },
        "outputId": "8cb306c6-9a00-4159-fc31-56e464f985d2"
      },
      "source": [
        "data.shape"
      ],
      "execution_count": 4,
      "outputs": [
        {
          "output_type": "execute_result",
          "data": {
            "text/plain": [
              "(6499, 21)"
            ]
          },
          "metadata": {
            "tags": []
          },
          "execution_count": 4
        }
      ]
    },
    {
      "cell_type": "markdown",
      "metadata": {
        "id": "IBbHsYoIAXfX"
      },
      "source": [
        "## **4.Preprocessing the data**"
      ]
    },
    {
      "cell_type": "markdown",
      "metadata": {
        "id": "E4l7MFMh6eES"
      },
      "source": [
        "### **4.1.Droping unique columns**"
      ]
    },
    {
      "cell_type": "code",
      "metadata": {
        "id": "I64oHnDs6cvq"
      },
      "source": [
        "data = data.drop('CustomerID',axis =1)"
      ],
      "execution_count": 5,
      "outputs": []
    },
    {
      "cell_type": "markdown",
      "metadata": {
        "id": "hsfQJUsQAjOb"
      },
      "source": [
        "### **4.2.Encoding the categorical columns**"
      ]
    },
    {
      "cell_type": "code",
      "metadata": {
        "id": "pm3_wxWa6sxm",
        "colab": {
          "base_uri": "https://localhost:8080/"
        },
        "outputId": "80b27c6e-c15b-40e6-9411-657c29e90979"
      },
      "source": [
        "data.dtypes"
      ],
      "execution_count": 6,
      "outputs": [
        {
          "output_type": "execute_result",
          "data": {
            "text/plain": [
              "Gender                object\n",
              "Senior Citizen         int64\n",
              "Partner               object\n",
              "Dependents            object\n",
              "Tenure                 int64\n",
              "Phone Service         object\n",
              "Multiple Lines        object\n",
              "Internet Service      object\n",
              "Online Security       object\n",
              "Online Backup         object\n",
              "Device Protection     object\n",
              "Tech Support          object\n",
              "Streaming TV          object\n",
              "Streaming Movies      object\n",
              "Contract              object\n",
              "Paperless Billing     object\n",
              "Payment Method        object\n",
              "Monthly Charges      float64\n",
              "Total Charges        float64\n",
              "Churn                 object\n",
              "dtype: object"
            ]
          },
          "metadata": {
            "tags": []
          },
          "execution_count": 6
        }
      ]
    },
    {
      "cell_type": "code",
      "metadata": {
        "id": "Qpul2AA87Yp9"
      },
      "source": [
        "categorical_columns = data.select_dtypes(include=['object']).columns\n",
        "\n",
        "continous_columns = data.select_dtypes(exclude=['object']).columns\n"
      ],
      "execution_count": 7,
      "outputs": []
    },
    {
      "cell_type": "code",
      "metadata": {
        "id": "cNSuo1o18DC3",
        "colab": {
          "base_uri": "https://localhost:8080/"
        },
        "outputId": "3077d148-5426-4b9a-caaf-2fa93dd17dad"
      },
      "source": [
        "#the categorical columns\n",
        "categorical_columns"
      ],
      "execution_count": 8,
      "outputs": [
        {
          "output_type": "execute_result",
          "data": {
            "text/plain": [
              "Index(['Gender', 'Partner', 'Dependents', 'Phone Service', 'Multiple Lines',\n",
              "       'Internet Service', 'Online Security', 'Online Backup',\n",
              "       'Device Protection', 'Tech Support', 'Streaming TV', 'Streaming Movies',\n",
              "       'Contract', 'Paperless Billing', 'Payment Method', 'Churn'],\n",
              "      dtype='object')"
            ]
          },
          "metadata": {
            "tags": []
          },
          "execution_count": 8
        }
      ]
    },
    {
      "cell_type": "code",
      "metadata": {
        "id": "3Io1kDfq7nx3"
      },
      "source": [
        "#making categorical columns into categorical data type\n",
        "data[categorical_columns] = data[categorical_columns].astype('category')"
      ],
      "execution_count": 9,
      "outputs": []
    },
    {
      "cell_type": "code",
      "metadata": {
        "id": "D9RX6Si28Tjq",
        "colab": {
          "base_uri": "https://localhost:8080/"
        },
        "outputId": "210ea722-6b84-4c34-a513-e823c402bffc"
      },
      "source": [
        "data.dtypes"
      ],
      "execution_count": 10,
      "outputs": [
        {
          "output_type": "execute_result",
          "data": {
            "text/plain": [
              "Gender               category\n",
              "Senior Citizen          int64\n",
              "Partner              category\n",
              "Dependents           category\n",
              "Tenure                  int64\n",
              "Phone Service        category\n",
              "Multiple Lines       category\n",
              "Internet Service     category\n",
              "Online Security      category\n",
              "Online Backup        category\n",
              "Device Protection    category\n",
              "Tech Support         category\n",
              "Streaming TV         category\n",
              "Streaming Movies     category\n",
              "Contract             category\n",
              "Paperless Billing    category\n",
              "Payment Method       category\n",
              "Monthly Charges       float64\n",
              "Total Charges         float64\n",
              "Churn                category\n",
              "dtype: object"
            ]
          },
          "metadata": {
            "tags": []
          },
          "execution_count": 10
        }
      ]
    },
    {
      "cell_type": "code",
      "metadata": {
        "id": "Imb4HuZl8Wd-"
      },
      "source": [
        "#dictionary to store mapping\n",
        "col_cat_dict = {}\n",
        "#numerical encoding the catecogrical columns using function cat codes\n",
        "for col in categorical_columns:\n",
        "  col_cat_dict[col] = dict(enumerate(data[col].cat.categories))\n",
        "  data[col] = data[col].cat.codes\n",
        "  data[col] = data[col].astype('category')"
      ],
      "execution_count": 11,
      "outputs": []
    },
    {
      "cell_type": "code",
      "metadata": {
        "id": "njD5JFenX6Ix",
        "colab": {
          "base_uri": "https://localhost:8080/"
        },
        "outputId": "ebbf7a5c-897e-4dc8-f58a-e7e13d420983"
      },
      "source": [
        "col_cat_dict"
      ],
      "execution_count": 12,
      "outputs": [
        {
          "output_type": "execute_result",
          "data": {
            "text/plain": [
              "{'Churn': {0: 'No', 1: 'Yes'},\n",
              " 'Contract': {0: 'Month-to-month', 1: 'One year', 2: 'Two year'},\n",
              " 'Dependents': {0: 'No', 1: 'Yes'},\n",
              " 'Device Protection': {0: 'No', 1: 'No internet service', 2: 'Yes'},\n",
              " 'Gender': {0: 'Female', 1: 'Male'},\n",
              " 'Internet Service': {0: 'DSL', 1: 'Fiber optic', 2: 'No'},\n",
              " 'Multiple Lines': {0: 'No', 1: 'No phone service', 2: 'Yes'},\n",
              " 'Online Backup': {0: 'No', 1: 'No internet service', 2: 'Yes'},\n",
              " 'Online Security': {0: 'No', 1: 'No internet service', 2: 'Yes'},\n",
              " 'Paperless Billing': {0: 'No', 1: 'Yes'},\n",
              " 'Partner': {0: 'No', 1: 'Yes'},\n",
              " 'Payment Method': {0: 'Bank transfer (automatic)',\n",
              "  1: 'Credit card (automatic)',\n",
              "  2: 'Electronic check',\n",
              "  3: 'Mailed check'},\n",
              " 'Phone Service': {0: 'No', 1: 'Yes'},\n",
              " 'Streaming Movies': {0: 'No', 1: 'No internet service', 2: 'Yes'},\n",
              " 'Streaming TV': {0: 'No', 1: 'No internet service', 2: 'Yes'},\n",
              " 'Tech Support': {0: 'No', 1: 'No internet service', 2: 'Yes'}}"
            ]
          },
          "metadata": {
            "tags": []
          },
          "execution_count": 12
        }
      ]
    },
    {
      "cell_type": "code",
      "metadata": {
        "id": "YoR1MJ8Zl31V",
        "colab": {
          "base_uri": "https://localhost:8080/"
        },
        "outputId": "033089ae-87a5-4020-82c9-6bfd52caecf8"
      },
      "source": [
        "data.dtypes"
      ],
      "execution_count": 13,
      "outputs": [
        {
          "output_type": "execute_result",
          "data": {
            "text/plain": [
              "Gender               category\n",
              "Senior Citizen          int64\n",
              "Partner              category\n",
              "Dependents           category\n",
              "Tenure                  int64\n",
              "Phone Service        category\n",
              "Multiple Lines       category\n",
              "Internet Service     category\n",
              "Online Security      category\n",
              "Online Backup        category\n",
              "Device Protection    category\n",
              "Tech Support         category\n",
              "Streaming TV         category\n",
              "Streaming Movies     category\n",
              "Contract             category\n",
              "Paperless Billing    category\n",
              "Payment Method       category\n",
              "Monthly Charges       float64\n",
              "Total Charges         float64\n",
              "Churn                category\n",
              "dtype: object"
            ]
          },
          "metadata": {
            "tags": []
          },
          "execution_count": 13
        }
      ]
    },
    {
      "cell_type": "code",
      "metadata": {
        "id": "vVp_bBZ-88S1",
        "colab": {
          "base_uri": "https://localhost:8080/",
          "height": 243
        },
        "outputId": "7844e367-1b91-4ba1-b446-ab37a60ad387"
      },
      "source": [
        "data.head()"
      ],
      "execution_count": 14,
      "outputs": [
        {
          "output_type": "execute_result",
          "data": {
            "text/html": [
              "<div>\n",
              "<style scoped>\n",
              "    .dataframe tbody tr th:only-of-type {\n",
              "        vertical-align: middle;\n",
              "    }\n",
              "\n",
              "    .dataframe tbody tr th {\n",
              "        vertical-align: top;\n",
              "    }\n",
              "\n",
              "    .dataframe thead th {\n",
              "        text-align: right;\n",
              "    }\n",
              "</style>\n",
              "<table border=\"1\" class=\"dataframe\">\n",
              "  <thead>\n",
              "    <tr style=\"text-align: right;\">\n",
              "      <th></th>\n",
              "      <th>Gender</th>\n",
              "      <th>Senior Citizen</th>\n",
              "      <th>Partner</th>\n",
              "      <th>Dependents</th>\n",
              "      <th>Tenure</th>\n",
              "      <th>Phone Service</th>\n",
              "      <th>Multiple Lines</th>\n",
              "      <th>Internet Service</th>\n",
              "      <th>Online Security</th>\n",
              "      <th>Online Backup</th>\n",
              "      <th>Device Protection</th>\n",
              "      <th>Tech Support</th>\n",
              "      <th>Streaming TV</th>\n",
              "      <th>Streaming Movies</th>\n",
              "      <th>Contract</th>\n",
              "      <th>Paperless Billing</th>\n",
              "      <th>Payment Method</th>\n",
              "      <th>Monthly Charges</th>\n",
              "      <th>Total Charges</th>\n",
              "      <th>Churn</th>\n",
              "    </tr>\n",
              "  </thead>\n",
              "  <tbody>\n",
              "    <tr>\n",
              "      <th>0</th>\n",
              "      <td>0</td>\n",
              "      <td>0</td>\n",
              "      <td>1</td>\n",
              "      <td>0</td>\n",
              "      <td>1</td>\n",
              "      <td>0</td>\n",
              "      <td>1</td>\n",
              "      <td>0</td>\n",
              "      <td>0</td>\n",
              "      <td>2</td>\n",
              "      <td>0</td>\n",
              "      <td>0</td>\n",
              "      <td>0</td>\n",
              "      <td>0</td>\n",
              "      <td>0</td>\n",
              "      <td>1</td>\n",
              "      <td>2</td>\n",
              "      <td>29.85</td>\n",
              "      <td>29.85</td>\n",
              "      <td>0</td>\n",
              "    </tr>\n",
              "    <tr>\n",
              "      <th>1</th>\n",
              "      <td>1</td>\n",
              "      <td>0</td>\n",
              "      <td>0</td>\n",
              "      <td>0</td>\n",
              "      <td>34</td>\n",
              "      <td>1</td>\n",
              "      <td>0</td>\n",
              "      <td>0</td>\n",
              "      <td>2</td>\n",
              "      <td>0</td>\n",
              "      <td>2</td>\n",
              "      <td>0</td>\n",
              "      <td>0</td>\n",
              "      <td>0</td>\n",
              "      <td>1</td>\n",
              "      <td>0</td>\n",
              "      <td>3</td>\n",
              "      <td>56.95</td>\n",
              "      <td>1889.50</td>\n",
              "      <td>0</td>\n",
              "    </tr>\n",
              "    <tr>\n",
              "      <th>2</th>\n",
              "      <td>1</td>\n",
              "      <td>0</td>\n",
              "      <td>0</td>\n",
              "      <td>0</td>\n",
              "      <td>2</td>\n",
              "      <td>1</td>\n",
              "      <td>0</td>\n",
              "      <td>0</td>\n",
              "      <td>2</td>\n",
              "      <td>2</td>\n",
              "      <td>0</td>\n",
              "      <td>0</td>\n",
              "      <td>0</td>\n",
              "      <td>0</td>\n",
              "      <td>0</td>\n",
              "      <td>1</td>\n",
              "      <td>3</td>\n",
              "      <td>53.85</td>\n",
              "      <td>108.15</td>\n",
              "      <td>1</td>\n",
              "    </tr>\n",
              "    <tr>\n",
              "      <th>3</th>\n",
              "      <td>1</td>\n",
              "      <td>0</td>\n",
              "      <td>0</td>\n",
              "      <td>0</td>\n",
              "      <td>45</td>\n",
              "      <td>0</td>\n",
              "      <td>1</td>\n",
              "      <td>0</td>\n",
              "      <td>2</td>\n",
              "      <td>0</td>\n",
              "      <td>2</td>\n",
              "      <td>2</td>\n",
              "      <td>0</td>\n",
              "      <td>0</td>\n",
              "      <td>1</td>\n",
              "      <td>0</td>\n",
              "      <td>0</td>\n",
              "      <td>42.30</td>\n",
              "      <td>1840.75</td>\n",
              "      <td>0</td>\n",
              "    </tr>\n",
              "    <tr>\n",
              "      <th>4</th>\n",
              "      <td>0</td>\n",
              "      <td>0</td>\n",
              "      <td>0</td>\n",
              "      <td>0</td>\n",
              "      <td>2</td>\n",
              "      <td>1</td>\n",
              "      <td>0</td>\n",
              "      <td>1</td>\n",
              "      <td>0</td>\n",
              "      <td>0</td>\n",
              "      <td>0</td>\n",
              "      <td>0</td>\n",
              "      <td>0</td>\n",
              "      <td>0</td>\n",
              "      <td>0</td>\n",
              "      <td>1</td>\n",
              "      <td>2</td>\n",
              "      <td>70.70</td>\n",
              "      <td>151.65</td>\n",
              "      <td>1</td>\n",
              "    </tr>\n",
              "  </tbody>\n",
              "</table>\n",
              "</div>"
            ],
            "text/plain": [
              "  Gender  Senior Citizen Partner  ... Monthly Charges  Total Charges Churn\n",
              "0      0               0       1  ...           29.85          29.85     0\n",
              "1      1               0       0  ...           56.95        1889.50     0\n",
              "2      1               0       0  ...           53.85         108.15     1\n",
              "3      1               0       0  ...           42.30        1840.75     0\n",
              "4      0               0       0  ...           70.70         151.65     1\n",
              "\n",
              "[5 rows x 20 columns]"
            ]
          },
          "metadata": {
            "tags": []
          },
          "execution_count": 14
        }
      ]
    },
    {
      "cell_type": "markdown",
      "metadata": {
        "id": "6Jx5brsmF43P"
      },
      "source": [
        "## **4.3 Handling missing values**"
      ]
    },
    {
      "cell_type": "markdown",
      "metadata": {
        "id": "m_fg3KJaG0Gs"
      },
      "source": [
        "Filling the NaN values for the categorical column with mode\n",
        " \n",
        "Filling the NAN vaules for the continous columns with mean"
      ]
    },
    {
      "cell_type": "code",
      "metadata": {
        "id": "65SuR9eUF-GI"
      },
      "source": [
        "for col in categorical_columns:\n",
        "  data[col] = data[col].fillna(data[col].mode())\n",
        "\n",
        "for col in continous_columns:\n",
        "  data[col] = data[col].fillna(data[col].mean())"
      ],
      "execution_count": 15,
      "outputs": []
    },
    {
      "cell_type": "code",
      "metadata": {
        "id": "Xsj9YsbXJHQj",
        "colab": {
          "base_uri": "https://localhost:8080/"
        },
        "outputId": "7ef15f50-4fdc-4155-b6c9-be1c77921df3"
      },
      "source": [
        "#Checking wether there is any NAN values\n",
        "data.isnull().sum() "
      ],
      "execution_count": 16,
      "outputs": [
        {
          "output_type": "execute_result",
          "data": {
            "text/plain": [
              "Gender               0\n",
              "Senior Citizen       0\n",
              "Partner              0\n",
              "Dependents           0\n",
              "Tenure               0\n",
              "Phone Service        0\n",
              "Multiple Lines       0\n",
              "Internet Service     0\n",
              "Online Security      0\n",
              "Online Backup        0\n",
              "Device Protection    0\n",
              "Tech Support         0\n",
              "Streaming TV         0\n",
              "Streaming Movies     0\n",
              "Contract             0\n",
              "Paperless Billing    0\n",
              "Payment Method       0\n",
              "Monthly Charges      0\n",
              "Total Charges        0\n",
              "Churn                0\n",
              "dtype: int64"
            ]
          },
          "metadata": {
            "tags": []
          },
          "execution_count": 16
        }
      ]
    },
    {
      "cell_type": "markdown",
      "metadata": {
        "id": "SawDJg_e90dq"
      },
      "source": [
        "## **5.Training to get the variable importance**"
      ]
    },
    {
      "cell_type": "code",
      "metadata": {
        "id": "dKfEnMtO90pz"
      },
      "source": [
        "feature = data.columns.tolist()\n",
        "feature.remove('Churn')\n",
        "\n",
        "X = data[ feature]\n",
        "\n",
        "y = data['Churn']"
      ],
      "execution_count": 17,
      "outputs": []
    },
    {
      "cell_type": "code",
      "metadata": {
        "id": "4uTsHffv3TCh",
        "colab": {
          "base_uri": "https://localhost:8080/"
        },
        "outputId": "37297af1-9814-4430-cb23-93fa74aac16b"
      },
      "source": [
        "dtree=DecisionTreeClassifier()\n",
        "dtree.fit(X,y)"
      ],
      "execution_count": 18,
      "outputs": [
        {
          "output_type": "execute_result",
          "data": {
            "text/plain": [
              "DecisionTreeClassifier(ccp_alpha=0.0, class_weight=None, criterion='gini',\n",
              "                       max_depth=None, max_features=None, max_leaf_nodes=None,\n",
              "                       min_impurity_decrease=0.0, min_impurity_split=None,\n",
              "                       min_samples_leaf=1, min_samples_split=2,\n",
              "                       min_weight_fraction_leaf=0.0, presort='deprecated',\n",
              "                       random_state=None, splitter='best')"
            ]
          },
          "metadata": {
            "tags": []
          },
          "execution_count": 18
        }
      ]
    },
    {
      "cell_type": "markdown",
      "metadata": {
        "id": "heybKfNRSHcu"
      },
      "source": [
        "## **6.1.Feature Importance**"
      ]
    },
    {
      "cell_type": "code",
      "metadata": {
        "id": "LEnfN2sJiMjT",
        "colab": {
          "base_uri": "https://localhost:8080/",
          "height": 594
        },
        "outputId": "0296024b-2c06-4b55-c44a-91727d8d8031"
      },
      "source": [
        "importance = dtree.feature_importances_\n",
        "from matplotlib import pyplot\n",
        "\n",
        "for i,v in enumerate(importance):\n",
        "\tprint('Feature: %0d, Score: %.5f' % (i,v))\n",
        "\n",
        "\n",
        "pyplot.bar([x for x in range(len(importance))], importance)\n",
        "pyplot.show()\n",
        "var_imp = importance.tolist()"
      ],
      "execution_count": 19,
      "outputs": [
        {
          "output_type": "stream",
          "text": [
            "Feature: 0, Score: 0.02375\n",
            "Feature: 1, Score: 0.02354\n",
            "Feature: 2, Score: 0.01760\n",
            "Feature: 3, Score: 0.01816\n",
            "Feature: 4, Score: 0.11278\n",
            "Feature: 5, Score: 0.00149\n",
            "Feature: 6, Score: 0.01968\n",
            "Feature: 7, Score: 0.02721\n",
            "Feature: 8, Score: 0.04368\n",
            "Feature: 9, Score: 0.01542\n",
            "Feature: 10, Score: 0.01330\n",
            "Feature: 11, Score: 0.01867\n",
            "Feature: 12, Score: 0.01173\n",
            "Feature: 13, Score: 0.01324\n",
            "Feature: 14, Score: 0.16950\n",
            "Feature: 15, Score: 0.01918\n",
            "Feature: 16, Score: 0.04551\n",
            "Feature: 17, Score: 0.19707\n",
            "Feature: 18, Score: 0.20850\n"
          ],
          "name": "stdout"
        },
        {
          "output_type": "display_data",
          "data": {
            "image/png": "[encoded data removed]",
            "text/plain": [
              "<Figure size 432x288 with 1 Axes>"
            ]
          },
          "metadata": {
            "tags": [],
            "needs_background": "light"
          }
        }
      ]
    },
    {
      "cell_type": "code",
      "metadata": {
        "id": "H1mIw53_-2J4",
        "colab": {
          "base_uri": "https://localhost:8080/",
          "height": 644
        },
        "outputId": "e52ac190-767b-4d93-b6e8-1dfab25b48ff"
      },
      "source": [
        "feature = data.columns.tolist()\n",
        "feature.remove('Churn')\n",
        "\n",
        "df_varimp =  DataFrame (feature,columns=['Features'])\n",
        "df_varimp[\"var_imp\"] =var_imp\n",
        "df_varimp_sorted=df_varimp.sort_values(by=['var_imp'],ascending=False)\n",
        "df_varimp_sorted\n",
        "\n"
      ],
      "execution_count": 20,
      "outputs": [
        {
          "output_type": "execute_result",
          "data": {
            "text/html": [
              "<div>\n",
              "<style scoped>\n",
              "    .dataframe tbody tr th:only-of-type {\n",
              "        vertical-align: middle;\n",
              "    }\n",
              "\n",
              "    .dataframe tbody tr th {\n",
              "        vertical-align: top;\n",
              "    }\n",
              "\n",
              "    .dataframe thead th {\n",
              "        text-align: right;\n",
              "    }\n",
              "</style>\n",
              "<table border=\"1\" class=\"dataframe\">\n",
              "  <thead>\n",
              "    <tr style=\"text-align: right;\">\n",
              "      <th></th>\n",
              "      <th>Features</th>\n",
              "      <th>var_imp</th>\n",
              "    </tr>\n",
              "  </thead>\n",
              "  <tbody>\n",
              "    <tr>\n",
              "      <th>18</th>\n",
              "      <td>Total Charges</td>\n",
              "      <td>0.208502</td>\n",
              "    </tr>\n",
              "    <tr>\n",
              "      <th>17</th>\n",
              "      <td>Monthly Charges</td>\n",
              "      <td>0.197067</td>\n",
              "    </tr>\n",
              "    <tr>\n",
              "      <th>14</th>\n",
              "      <td>Contract</td>\n",
              "      <td>0.169505</td>\n",
              "    </tr>\n",
              "    <tr>\n",
              "      <th>4</th>\n",
              "      <td>Tenure</td>\n",
              "      <td>0.112776</td>\n",
              "    </tr>\n",
              "    <tr>\n",
              "      <th>16</th>\n",
              "      <td>Payment Method</td>\n",
              "      <td>0.045509</td>\n",
              "    </tr>\n",
              "    <tr>\n",
              "      <th>8</th>\n",
              "      <td>Online Security</td>\n",
              "      <td>0.043680</td>\n",
              "    </tr>\n",
              "    <tr>\n",
              "      <th>7</th>\n",
              "      <td>Internet Service</td>\n",
              "      <td>0.027207</td>\n",
              "    </tr>\n",
              "    <tr>\n",
              "      <th>0</th>\n",
              "      <td>Gender</td>\n",
              "      <td>0.023746</td>\n",
              "    </tr>\n",
              "    <tr>\n",
              "      <th>1</th>\n",
              "      <td>Senior Citizen</td>\n",
              "      <td>0.023538</td>\n",
              "    </tr>\n",
              "    <tr>\n",
              "      <th>6</th>\n",
              "      <td>Multiple Lines</td>\n",
              "      <td>0.019680</td>\n",
              "    </tr>\n",
              "    <tr>\n",
              "      <th>15</th>\n",
              "      <td>Paperless Billing</td>\n",
              "      <td>0.019180</td>\n",
              "    </tr>\n",
              "    <tr>\n",
              "      <th>11</th>\n",
              "      <td>Tech Support</td>\n",
              "      <td>0.018668</td>\n",
              "    </tr>\n",
              "    <tr>\n",
              "      <th>3</th>\n",
              "      <td>Dependents</td>\n",
              "      <td>0.018164</td>\n",
              "    </tr>\n",
              "    <tr>\n",
              "      <th>2</th>\n",
              "      <td>Partner</td>\n",
              "      <td>0.017604</td>\n",
              "    </tr>\n",
              "    <tr>\n",
              "      <th>9</th>\n",
              "      <td>Online Backup</td>\n",
              "      <td>0.015415</td>\n",
              "    </tr>\n",
              "    <tr>\n",
              "      <th>10</th>\n",
              "      <td>Device Protection</td>\n",
              "      <td>0.013298</td>\n",
              "    </tr>\n",
              "    <tr>\n",
              "      <th>13</th>\n",
              "      <td>Streaming Movies</td>\n",
              "      <td>0.013240</td>\n",
              "    </tr>\n",
              "    <tr>\n",
              "      <th>12</th>\n",
              "      <td>Streaming TV</td>\n",
              "      <td>0.011734</td>\n",
              "    </tr>\n",
              "    <tr>\n",
              "      <th>5</th>\n",
              "      <td>Phone Service</td>\n",
              "      <td>0.001488</td>\n",
              "    </tr>\n",
              "  </tbody>\n",
              "</table>\n",
              "</div>"
            ],
            "text/plain": [
              "             Features   var_imp\n",
              "18      Total Charges  0.208502\n",
              "17    Monthly Charges  0.197067\n",
              "14           Contract  0.169505\n",
              "4              Tenure  0.112776\n",
              "16     Payment Method  0.045509\n",
              "8     Online Security  0.043680\n",
              "7    Internet Service  0.027207\n",
              "0              Gender  0.023746\n",
              "1      Senior Citizen  0.023538\n",
              "6      Multiple Lines  0.019680\n",
              "15  Paperless Billing  0.019180\n",
              "11       Tech Support  0.018668\n",
              "3          Dependents  0.018164\n",
              "2             Partner  0.017604\n",
              "9       Online Backup  0.015415\n",
              "10  Device Protection  0.013298\n",
              "13   Streaming Movies  0.013240\n",
              "12       Streaming TV  0.011734\n",
              "5       Phone Service  0.001488"
            ]
          },
          "metadata": {
            "tags": []
          },
          "execution_count": 20
        }
      ]
    },
    {
      "cell_type": "markdown",
      "metadata": {
        "id": "bAtVsh-yS0cJ"
      },
      "source": [
        "## **6.2.Feature Selection**\n",
        "\n",
        "thres is set 0.05 which configurable"
      ]
    },
    {
      "cell_type": "code",
      "metadata": {
        "id": "A1H_6Zar-sc3"
      },
      "source": [
        "thres = 0.05\n",
        "imp_data = df_varimp_sorted[df_varimp_sorted['var_imp']>thres]\n",
        "feat = imp_data['Features']\n"
      ],
      "execution_count": 21,
      "outputs": []
    },
    {
      "cell_type": "code",
      "metadata": {
        "id": "nsB_-H-H-si_",
        "colab": {
          "base_uri": "https://localhost:8080/",
          "height": 423
        },
        "outputId": "bb618131-8394-44d9-b2e3-56bc30769a06"
      },
      "source": [
        "data [feat]"
      ],
      "execution_count": 22,
      "outputs": [
        {
          "output_type": "execute_result",
          "data": {
            "text/html": [
              "<div>\n",
              "<style scoped>\n",
              "    .dataframe tbody tr th:only-of-type {\n",
              "        vertical-align: middle;\n",
              "    }\n",
              "\n",
              "    .dataframe tbody tr th {\n",
              "        vertical-align: top;\n",
              "    }\n",
              "\n",
              "    .dataframe thead th {\n",
              "        text-align: right;\n",
              "    }\n",
              "</style>\n",
              "<table border=\"1\" class=\"dataframe\">\n",
              "  <thead>\n",
              "    <tr style=\"text-align: right;\">\n",
              "      <th></th>\n",
              "      <th>Total Charges</th>\n",
              "      <th>Monthly Charges</th>\n",
              "      <th>Contract</th>\n",
              "      <th>Tenure</th>\n",
              "    </tr>\n",
              "  </thead>\n",
              "  <tbody>\n",
              "    <tr>\n",
              "      <th>0</th>\n",
              "      <td>29.85</td>\n",
              "      <td>29.85</td>\n",
              "      <td>0</td>\n",
              "      <td>1</td>\n",
              "    </tr>\n",
              "    <tr>\n",
              "      <th>1</th>\n",
              "      <td>1889.50</td>\n",
              "      <td>56.95</td>\n",
              "      <td>1</td>\n",
              "      <td>34</td>\n",
              "    </tr>\n",
              "    <tr>\n",
              "      <th>2</th>\n",
              "      <td>108.15</td>\n",
              "      <td>53.85</td>\n",
              "      <td>0</td>\n",
              "      <td>2</td>\n",
              "    </tr>\n",
              "    <tr>\n",
              "      <th>3</th>\n",
              "      <td>1840.75</td>\n",
              "      <td>42.30</td>\n",
              "      <td>1</td>\n",
              "      <td>45</td>\n",
              "    </tr>\n",
              "    <tr>\n",
              "      <th>4</th>\n",
              "      <td>151.65</td>\n",
              "      <td>70.70</td>\n",
              "      <td>0</td>\n",
              "      <td>2</td>\n",
              "    </tr>\n",
              "    <tr>\n",
              "      <th>...</th>\n",
              "      <td>...</td>\n",
              "      <td>...</td>\n",
              "      <td>...</td>\n",
              "      <td>...</td>\n",
              "    </tr>\n",
              "    <tr>\n",
              "      <th>6494</th>\n",
              "      <td>786.50</td>\n",
              "      <td>29.80</td>\n",
              "      <td>0</td>\n",
              "      <td>26</td>\n",
              "    </tr>\n",
              "    <tr>\n",
              "      <th>6495</th>\n",
              "      <td>69.65</td>\n",
              "      <td>69.65</td>\n",
              "      <td>0</td>\n",
              "      <td>1</td>\n",
              "    </tr>\n",
              "    <tr>\n",
              "      <th>6496</th>\n",
              "      <td>4086.30</td>\n",
              "      <td>101.85</td>\n",
              "      <td>0</td>\n",
              "      <td>40</td>\n",
              "    </tr>\n",
              "    <tr>\n",
              "      <th>6497</th>\n",
              "      <td>5364.80</td>\n",
              "      <td>103.05</td>\n",
              "      <td>0</td>\n",
              "      <td>52</td>\n",
              "    </tr>\n",
              "    <tr>\n",
              "      <th>6498</th>\n",
              "      <td>82.30</td>\n",
              "      <td>82.30</td>\n",
              "      <td>0</td>\n",
              "      <td>1</td>\n",
              "    </tr>\n",
              "  </tbody>\n",
              "</table>\n",
              "<p>6499 rows × 4 columns</p>\n",
              "</div>"
            ],
            "text/plain": [
              "      Total Charges  Monthly Charges Contract  Tenure\n",
              "0             29.85            29.85        0       1\n",
              "1           1889.50            56.95        1      34\n",
              "2            108.15            53.85        0       2\n",
              "3           1840.75            42.30        1      45\n",
              "4            151.65            70.70        0       2\n",
              "...             ...              ...      ...     ...\n",
              "6494         786.50            29.80        0      26\n",
              "6495          69.65            69.65        0       1\n",
              "6496        4086.30           101.85        0      40\n",
              "6497        5364.80           103.05        0      52\n",
              "6498          82.30            82.30        0       1\n",
              "\n",
              "[6499 rows x 4 columns]"
            ]
          },
          "metadata": {
            "tags": []
          },
          "execution_count": 22
        }
      ]
    },
    {
      "cell_type": "markdown",
      "metadata": {
        "id": "C9MkiEAWCNyO"
      },
      "source": [
        "### **7.1.Train ,Validation and Test split**\n",
        "\n",
        "Data is split into 3 parts\n",
        "\n",
        "Taining data set = 80.75%\n",
        "\n",
        "Validation data set = 14.25%\n",
        "\n",
        "Test data set = 5%"
      ]
    },
    {
      "cell_type": "code",
      "metadata": {
        "id": "kabmiPUVCX0O"
      },
      "source": [
        "from sklearn.model_selection import  train_test_split\n",
        "\n",
        "columns = data[feat].columns\n",
        "\n",
        "X = data[feat]\n",
        "\n",
        "y = data['Churn']\n",
        "\n",
        "X_t, X_test, y_t, y_test = train_test_split(X, y, test_size=0.05, random_state=1)\n",
        "\n",
        "X_train, X_val, y_train, y_val = train_test_split(X_t, y_t, test_size=0.15, random_state=1)"
      ],
      "execution_count": 23,
      "outputs": []
    },
    {
      "cell_type": "markdown",
      "metadata": {
        "id": "UVh5r_sdBUFg"
      },
      "source": [
        "### **7.2.Processing data for decision tree**"
      ]
    },
    {
      "cell_type": "code",
      "metadata": {
        "id": "Gd2X4rCBtrf1"
      },
      "source": [
        "feature = data.columns\n",
        "y = data['Churn']\n",
        "data = data.drop(('Churn'),axis = 1)\n",
        "data = data.fillna(0)"
      ],
      "execution_count": 24,
      "outputs": []
    },
    {
      "cell_type": "markdown",
      "metadata": {
        "id": "00NlUx779OIg"
      },
      "source": [
        "## **8. Tunning the Hyperparmeter**\n",
        "\n",
        "Using grid search for Hyperparmeter tunning, even randomized grid search can be employed for doing grid search which will faster than normal grid search."
      ]
    },
    {
      "cell_type": "code",
      "metadata": {
        "id": "GKw9BouPRkQ5"
      },
      "source": [
        "from sklearn.model_selection import GridSearchCV"
      ],
      "execution_count": 25,
      "outputs": []
    },
    {
      "cell_type": "code",
      "metadata": {
        "id": "FbHqyrLJR6Fm"
      },
      "source": [
        "depths = np.arange(2, 5)\n",
        "num_leafs = [ 20,30,40,50]\n",
        "nodes =np.arange(24, 30)\n",
        "criteria = ['entropy']\n",
        "split = ['best', 'random']"
      ],
      "execution_count": 26,
      "outputs": []
    },
    {
      "cell_type": "code",
      "metadata": {
        "id": "CZ5TQHRmRtC6"
      },
      "source": [
        "param_grid = [{'max_depth':depths,\n",
        "              'min_samples_leaf':num_leafs,'max_leaf_nodes':nodes,'criterion':criteria}]"
      ],
      "execution_count": 27,
      "outputs": []
    },
    {
      "cell_type": "code",
      "metadata": {
        "id": "LPH31Vk5R_4J"
      },
      "source": [
        "grid = GridSearchCV(dtree, param_grid, cv=10, scoring='accuracy',verbose=1)"
      ],
      "execution_count": 28,
      "outputs": []
    },
    {
      "cell_type": "code",
      "metadata": {
        "id": "bNhb-bDTSPeL",
        "colab": {
          "base_uri": "https://localhost:8080/"
        },
        "outputId": "fddf9508-f025-4db4-df4d-95a0e61dbfdd"
      },
      "source": [
        "s = grid.fit(X_val, y_val)"
      ],
      "execution_count": 29,
      "outputs": [
        {
          "output_type": "stream",
          "text": [
            "Fitting 10 folds for each of 72 candidates, totalling 720 fits\n"
          ],
          "name": "stdout"
        },
        {
          "output_type": "stream",
          "text": [
            "[Parallel(n_jobs=1)]: Using backend SequentialBackend with 1 concurrent workers.\n",
            "[Parallel(n_jobs=1)]: Done 720 out of 720 | elapsed:    4.4s finished\n"
          ],
          "name": "stderr"
        }
      ]
    },
    {
      "cell_type": "code",
      "metadata": {
        "id": "XMRl8yMiSji0",
        "colab": {
          "base_uri": "https://localhost:8080/"
        },
        "outputId": "5de9f124-0024-4272-88ef-d438c0276e62"
      },
      "source": [
        "# examine the best model\n",
        "\n",
        "# Single best score achieved across all params (min_samples_split)\n",
        "print(grid.best_score_)\n",
        "\n",
        "# Dictionary containing the parameters (min_samples_split) used to generate that score\n",
        "print(grid.best_params_)\n",
        "\n",
        "# Actual model object fit with those best parameters\n",
        "# Shows default parameters that we did not specify\n",
        "print(grid.best_estimator_)"
      ],
      "execution_count": 30,
      "outputs": [
        {
          "output_type": "stream",
          "text": [
            "0.764866760168303\n",
            "{'criterion': 'entropy', 'max_depth': 3, 'max_leaf_nodes': 24, 'min_samples_leaf': 50}\n",
            "DecisionTreeClassifier(ccp_alpha=0.0, class_weight=None, criterion='entropy',\n",
            "                       max_depth=3, max_features=None, max_leaf_nodes=24,\n",
            "                       min_impurity_decrease=0.0, min_impurity_split=None,\n",
            "                       min_samples_leaf=50, min_samples_split=2,\n",
            "                       min_weight_fraction_leaf=0.0, presort='deprecated',\n",
            "                       random_state=None, splitter='best')\n"
          ],
          "name": "stdout"
        }
      ]
    },
    {
      "cell_type": "markdown",
      "metadata": {
        "id": "F1vZik-bTe8x"
      },
      "source": [
        "## **9. Training important Features**\n",
        "\n",
        "\n",
        "After the hyperparameter tunning\n",
        "\n",
        "**max_depth**: 3\n",
        "\n",
        "**max_leaf_nodes**: 24 \n",
        "\n",
        "**min_samples_leaf**: 50"
      ]
    },
    {
      "cell_type": "code",
      "metadata": {
        "id": "6Webfv5tXGMQ"
      },
      "source": [
        "dtree=DecisionTreeClassifier(max_depth= 3, max_leaf_nodes= 24, min_samples_leaf= 50,criterion='entropy')\n",
        "model = dtree.fit(X_train,y_train)"
      ],
      "execution_count": 31,
      "outputs": []
    },
    {
      "cell_type": "code",
      "metadata": {
        "id": "XnKGeqZIW0nk",
        "colab": {
          "base_uri": "https://localhost:8080/"
        },
        "outputId": "8273159d-bfd1-4e31-f1de-ae1fd658dc42"
      },
      "source": [
        "y_predicted = model.predict(X_test)\n",
        "# calculate accuracy\n",
        "from sklearn import metrics\n",
        "print(metrics.accuracy_score(y_test, y_predicted))\n"
      ],
      "execution_count": 32,
      "outputs": [
        {
          "output_type": "stream",
          "text": [
            "0.76\n"
          ],
          "name": "stdout"
        }
      ]
    },
    {
      "cell_type": "code",
      "metadata": {
        "id": "j1wakVklYN5N",
        "colab": {
          "base_uri": "https://localhost:8080/"
        },
        "outputId": "99fac011-c6d4-438b-ee13-62b7493030fe"
      },
      "source": [
        "from sklearn.metrics import confusion_matrix\n",
        "confusion_matrix(y_test, y_predicted)"
      ],
      "execution_count": 33,
      "outputs": [
        {
          "output_type": "execute_result",
          "data": {
            "text/plain": [
              "array([[226,  13],\n",
              "       [ 65,  21]])"
            ]
          },
          "metadata": {
            "tags": []
          },
          "execution_count": 33
        }
      ]
    },
    {
      "cell_type": "code",
      "metadata": {
        "id": "CtVIQaiAcxgP",
        "colab": {
          "base_uri": "https://localhost:8080/",
          "height": 282
        },
        "outputId": "293da333-b762-4fc6-cff7-808accbeec15"
      },
      "source": [
        "from sklearn.metrics import plot_confusion_matrix\n",
        "import matplotlib.pyplot as plt\n",
        "\n",
        "plot_confusion_matrix(model, X_test, y_test)  \n",
        "plt.show() "
      ],
      "execution_count": 34,
      "outputs": [
        {
          "output_type": "display_data",
          "data": {
            "image/png": "[encoded data removed]",
            "text/plain": [
              "<Figure size 432x288 with 2 Axes>"
            ]
          },
          "metadata": {
            "tags": [],
            "needs_background": "light"
          }
        }
      ]
    },
    {
      "cell_type": "markdown",
      "metadata": {
        "id": "pqk7g_8edy-y"
      },
      "source": [
        "## **10. Conclusion**\n",
        "\n",
        "So finally the model predictions is good and we can predict customer churn with 76% accuracy."
      ]
    },
    {
      "cell_type": "markdown",
      "metadata": {
        "id": "h3uCMzZydzHG"
      },
      "source": [
        "## **11.Reference**\n",
        "\n",
        "https://scikit-learn.org/stable/modules/tree.html\n",
        "\n",
        "Copyright 2020 Abhishek Gargha Maheshwarappa\n",
        "\n",
        "Permission is hereby granted, free of charge, to any person obtaining a copy of this software and associated documentation files (the \"Software\"), to deal in the Software without restriction, including without limitation the rights to use, copy, modify, merge, publish, distribute, sublicense, and/or sell copies of the Software, and to permit persons to whom the Software is furnished to do so, subject to the following conditions:\n",
        "\n",
        "The above copyright notice and this permission notice shall be included in all copies or substantial portions of the Software.\n",
        "\n",
        "THE SOFTWARE IS PROVIDED \"AS IS\", WITHOUT WARRANTY OF ANY KIND, EXPRESS OR IMPLIED, INCLUDING BUT NOT LIMITED TO THE WARRANTIES OF MERCHANTABILITY, FITNESS FOR A PARTICULAR PURPOSE AND NONINFRINGEMENT. IN NO EVENT SHALL THE AUTHORS OR COPYRIGHT HOLDERS BE LIABLE FOR ANY CLAIM, DAMAGES OR OTHER LIABILITY, WHETHER IN AN ACTION OF CONTRACT, TORT OR OTHERWISE, ARISING FROM, OUT OF OR IN CONNECTION WITH THE SOFTWARE OR THE USE OR OTHER DEALINGS IN THE SOFTWARE."
      ]
    }
  ]
}