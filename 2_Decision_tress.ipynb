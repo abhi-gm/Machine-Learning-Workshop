{
  "nbformat": 4,
  "nbformat_minor": 0,
  "metadata": {
    "colab": {
      "name": "2. Decision tress.ipynb",
      "provenance": [],
      "collapsed_sections": [],
      "include_colab_link": true
    },
    "kernelspec": {
      "name": "python3",
      "display_name": "Python 3"
    }
  },
  "cells": [
    {
      "cell_type": "markdown",
      "metadata": {
        "id": "view-in-github",
        "colab_type": "text"
      },
      "source": [
        "<a href=\"https://colab.research.google.com/github/abhi-gm/Machine-Learning-Workshop/blob/Classical-Machine-Learning/2_Decision_tress.ipynb\" target=\"_parent\"><img src=\"https://colab.research.google.com/assets/colab-badge.svg\" alt=\"Open In Colab\"/></a>"
      ]
    },
    {
      "cell_type": "markdown",
      "metadata": {
        "id": "X2VgBjf2Ve3R"
      },
      "source": [
        "# **2. Decision tress**"
      ]
    },
    {
      "cell_type": "markdown",
      "metadata": {
        "id": "O1tbSL2t_LeV"
      },
      "source": [
        "##**1.Abstract**\n",
        "\n",
        "**Churn rate**, is the rate at which customers stop doing business with an entity. It is most commonly expressed as the percentage of service subscribers who discontinue their subscriptions within a given time. The notebook aims to do prediction whether a customer will churn or not."
      ]
    },
    {
      "cell_type": "markdown",
      "metadata": {
        "id": "uQ3cPdVU_2lw"
      },
      "source": [
        "## **2.Importing necessary libraries**"
      ]
    },
    {
      "cell_type": "code",
      "metadata": {
        "id": "yWKfRtlWVX6a"
      },
      "source": [
        "import sklearn\n",
        "import pandas as pd\n",
        "import numpy as np\n",
        "from sklearn.tree import DecisionTreeClassifier\n",
        "from pandas import DataFrame\n",
        "\n",
        "from sklearn.externals.six import StringIO  \n",
        "from IPython.display import Image  \n",
        "from sklearn.tree import export_graphviz\n",
        "import pydotplus"
      ],
      "execution_count": null,
      "outputs": []
    },
    {
      "cell_type": "markdown",
      "metadata": {
        "id": "XOkqkBluAOko"
      },
      "source": [
        "## **3. Import the data from Github**"
      ]
    },
    {
      "cell_type": "code",
      "metadata": {
        "id": "0z0j6a60tWHR"
      },
      "source": [
        "url =  'https://raw.githubusercontent.com/abhi-gm/Machine-Learning-Workshop/main/Datasets/Churn.csv?token=ALKWD7ANY3GXARLZV63DLZLAL5GMG'\n",
        "data = pd.read_csv(url, error_bad_lines=False)"
      ],
      "execution_count": null,
      "outputs": []
    },
    {
      "cell_type": "code",
      "metadata": {
        "id": "m52UrCXstqeo",
        "colab": {
          "base_uri": "https://localhost:8080/",
          "height": 347
        },
        "outputId": "539daa8e-4996-4991-aacd-c861598f9238"
      },
      "source": [
        "data.head()"
      ],
      "execution_count": null,
      "outputs": [
        {
          "output_type": "execute_result",
          "data": {
            "text/html": [
              "<div>\n",
              "<style scoped>\n",
              "    .dataframe tbody tr th:only-of-type {\n",
              "        vertical-align: middle;\n",
              "    }\n",
              "\n",
              "    .dataframe tbody tr th {\n",
              "        vertical-align: top;\n",
              "    }\n",
              "\n",
              "    .dataframe thead th {\n",
              "        text-align: right;\n",
              "    }\n",
              "</style>\n",
              "<table border=\"1\" class=\"dataframe\">\n",
              "  <thead>\n",
              "    <tr style=\"text-align: right;\">\n",
              "      <th></th>\n",
              "      <th>CustomerID</th>\n",
              "      <th>Gender</th>\n",
              "      <th>Senior Citizen</th>\n",
              "      <th>Partner</th>\n",
              "      <th>Dependents</th>\n",
              "      <th>Tenure</th>\n",
              "      <th>Phone Service</th>\n",
              "      <th>Multiple Lines</th>\n",
              "      <th>Internet Service</th>\n",
              "      <th>Online Security</th>\n",
              "      <th>Online Backup</th>\n",
              "      <th>Device Protection</th>\n",
              "      <th>Tech Support</th>\n",
              "      <th>Streaming TV</th>\n",
              "      <th>Streaming Movies</th>\n",
              "      <th>Contract</th>\n",
              "      <th>Paperless Billing</th>\n",
              "      <th>Payment Method</th>\n",
              "      <th>Monthly Charges</th>\n",
              "      <th>Total Charges</th>\n",
              "      <th>Churn</th>\n",
              "    </tr>\n",
              "  </thead>\n",
              "  <tbody>\n",
              "    <tr>\n",
              "      <th>0</th>\n",
              "      <td>7590-VHVEG</td>\n",
              "      <td>Female</td>\n",
              "      <td>0</td>\n",
              "      <td>Yes</td>\n",
              "      <td>No</td>\n",
              "      <td>1</td>\n",
              "      <td>No</td>\n",
              "      <td>No phone service</td>\n",
              "      <td>DSL</td>\n",
              "      <td>No</td>\n",
              "      <td>Yes</td>\n",
              "      <td>No</td>\n",
              "      <td>No</td>\n",
              "      <td>No</td>\n",
              "      <td>No</td>\n",
              "      <td>Month-to-month</td>\n",
              "      <td>Yes</td>\n",
              "      <td>Electronic check</td>\n",
              "      <td>29.85</td>\n",
              "      <td>29.85</td>\n",
              "      <td>No</td>\n",
              "    </tr>\n",
              "    <tr>\n",
              "      <th>1</th>\n",
              "      <td>5575-GNVDE</td>\n",
              "      <td>Male</td>\n",
              "      <td>0</td>\n",
              "      <td>No</td>\n",
              "      <td>No</td>\n",
              "      <td>34</td>\n",
              "      <td>Yes</td>\n",
              "      <td>No</td>\n",
              "      <td>DSL</td>\n",
              "      <td>Yes</td>\n",
              "      <td>No</td>\n",
              "      <td>Yes</td>\n",
              "      <td>No</td>\n",
              "      <td>No</td>\n",
              "      <td>No</td>\n",
              "      <td>One year</td>\n",
              "      <td>No</td>\n",
              "      <td>Mailed check</td>\n",
              "      <td>56.95</td>\n",
              "      <td>1889.50</td>\n",
              "      <td>No</td>\n",
              "    </tr>\n",
              "    <tr>\n",
              "      <th>2</th>\n",
              "      <td>3668-QPYBK</td>\n",
              "      <td>Male</td>\n",
              "      <td>0</td>\n",
              "      <td>No</td>\n",
              "      <td>No</td>\n",
              "      <td>2</td>\n",
              "      <td>Yes</td>\n",
              "      <td>No</td>\n",
              "      <td>DSL</td>\n",
              "      <td>Yes</td>\n",
              "      <td>Yes</td>\n",
              "      <td>No</td>\n",
              "      <td>No</td>\n",
              "      <td>No</td>\n",
              "      <td>No</td>\n",
              "      <td>Month-to-month</td>\n",
              "      <td>Yes</td>\n",
              "      <td>Mailed check</td>\n",
              "      <td>53.85</td>\n",
              "      <td>108.15</td>\n",
              "      <td>Yes</td>\n",
              "    </tr>\n",
              "    <tr>\n",
              "      <th>3</th>\n",
              "      <td>7795-CFOCW</td>\n",
              "      <td>Male</td>\n",
              "      <td>0</td>\n",
              "      <td>No</td>\n",
              "      <td>No</td>\n",
              "      <td>45</td>\n",
              "      <td>No</td>\n",
              "      <td>No phone service</td>\n",
              "      <td>DSL</td>\n",
              "      <td>Yes</td>\n",
              "      <td>No</td>\n",
              "      <td>Yes</td>\n",
              "      <td>Yes</td>\n",
              "      <td>No</td>\n",
              "      <td>No</td>\n",
              "      <td>One year</td>\n",
              "      <td>No</td>\n",
              "      <td>Bank transfer (automatic)</td>\n",
              "      <td>42.30</td>\n",
              "      <td>1840.75</td>\n",
              "      <td>No</td>\n",
              "    </tr>\n",
              "    <tr>\n",
              "      <th>4</th>\n",
              "      <td>9237-HQITU</td>\n",
              "      <td>Female</td>\n",
              "      <td>0</td>\n",
              "      <td>No</td>\n",
              "      <td>No</td>\n",
              "      <td>2</td>\n",
              "      <td>Yes</td>\n",
              "      <td>No</td>\n",
              "      <td>Fiber optic</td>\n",
              "      <td>No</td>\n",
              "      <td>No</td>\n",
              "      <td>No</td>\n",
              "      <td>No</td>\n",
              "      <td>No</td>\n",
              "      <td>No</td>\n",
              "      <td>Month-to-month</td>\n",
              "      <td>Yes</td>\n",
              "      <td>Electronic check</td>\n",
              "      <td>70.70</td>\n",
              "      <td>151.65</td>\n",
              "      <td>Yes</td>\n",
              "    </tr>\n",
              "  </tbody>\n",
              "</table>\n",
              "</div>"
            ],
            "text/plain": [
              "   CustomerID  Gender  Senior Citizen  ... Monthly Charges Total Charges  Churn\n",
              "0  7590-VHVEG  Female               0  ...           29.85         29.85     No\n",
              "1  5575-GNVDE    Male               0  ...           56.95       1889.50     No\n",
              "2  3668-QPYBK    Male               0  ...           53.85        108.15    Yes\n",
              "3  7795-CFOCW    Male               0  ...           42.30       1840.75     No\n",
              "4  9237-HQITU  Female               0  ...           70.70        151.65    Yes\n",
              "\n",
              "[5 rows x 21 columns]"
            ]
          },
          "metadata": {
            "tags": []
          },
          "execution_count": 38
        }
      ]
    },
    {
      "cell_type": "code",
      "metadata": {
        "id": "K2OtA0JSA2xw",
        "colab": {
          "base_uri": "https://localhost:8080/"
        },
        "outputId": "6401a805-b603-4c80-e119-eb5cfc067588"
      },
      "source": [
        "data.shape"
      ],
      "execution_count": null,
      "outputs": [
        {
          "output_type": "execute_result",
          "data": {
            "text/plain": [
              "(6499, 21)"
            ]
          },
          "metadata": {
            "tags": []
          },
          "execution_count": 39
        }
      ]
    },
    {
      "cell_type": "markdown",
      "metadata": {
        "id": "IBbHsYoIAXfX"
      },
      "source": [
        "## **4.Preprocessing the data**"
      ]
    },
    {
      "cell_type": "markdown",
      "metadata": {
        "id": "E4l7MFMh6eES"
      },
      "source": [
        "### **4.1.Droping unique columns**"
      ]
    },
    {
      "cell_type": "code",
      "metadata": {
        "id": "I64oHnDs6cvq"
      },
      "source": [
        "data = data.drop('CustomerID',axis =1)"
      ],
      "execution_count": null,
      "outputs": []
    },
    {
      "cell_type": "markdown",
      "metadata": {
        "id": "hsfQJUsQAjOb"
      },
      "source": [
        "### **4.2.Encoding the categorical columns**"
      ]
    },
    {
      "cell_type": "code",
      "metadata": {
        "id": "pm3_wxWa6sxm",
        "colab": {
          "base_uri": "https://localhost:8080/"
        },
        "outputId": "e8960d76-1c4f-4e50-8618-29caad8c0162"
      },
      "source": [
        "data.dtypes"
      ],
      "execution_count": null,
      "outputs": [
        {
          "output_type": "execute_result",
          "data": {
            "text/plain": [
              "Gender                object\n",
              "Senior Citizen         int64\n",
              "Partner               object\n",
              "Dependents            object\n",
              "Tenure                 int64\n",
              "Phone Service         object\n",
              "Multiple Lines        object\n",
              "Internet Service      object\n",
              "Online Security       object\n",
              "Online Backup         object\n",
              "Device Protection     object\n",
              "Tech Support          object\n",
              "Streaming TV          object\n",
              "Streaming Movies      object\n",
              "Contract              object\n",
              "Paperless Billing     object\n",
              "Payment Method        object\n",
              "Monthly Charges      float64\n",
              "Total Charges        float64\n",
              "Churn                 object\n",
              "dtype: object"
            ]
          },
          "metadata": {
            "tags": []
          },
          "execution_count": 41
        }
      ]
    },
    {
      "cell_type": "code",
      "metadata": {
        "id": "Qpul2AA87Yp9"
      },
      "source": [
        "categorical_columns = data.select_dtypes(include=['object']).columns\n",
        "\n",
        "continous_columns = data.select_dtypes(exclude=['object']).columns\n"
      ],
      "execution_count": null,
      "outputs": []
    },
    {
      "cell_type": "code",
      "metadata": {
        "id": "cNSuo1o18DC3",
        "colab": {
          "base_uri": "https://localhost:8080/"
        },
        "outputId": "b399642d-4c4e-43b4-fcf2-9c7742299ea8"
      },
      "source": [
        "#the categorical columns\n",
        "categorical_columns"
      ],
      "execution_count": null,
      "outputs": [
        {
          "output_type": "execute_result",
          "data": {
            "text/plain": [
              "Index(['Gender', 'Partner', 'Dependents', 'Phone Service', 'Multiple Lines',\n",
              "       'Internet Service', 'Online Security', 'Online Backup',\n",
              "       'Device Protection', 'Tech Support', 'Streaming TV', 'Streaming Movies',\n",
              "       'Contract', 'Paperless Billing', 'Payment Method', 'Churn'],\n",
              "      dtype='object')"
            ]
          },
          "metadata": {
            "tags": []
          },
          "execution_count": 43
        }
      ]
    },
    {
      "cell_type": "code",
      "metadata": {
        "id": "3Io1kDfq7nx3"
      },
      "source": [
        "#making categorical columns into categorical data type\n",
        "data[categorical_columns] = data[categorical_columns].astype('category')"
      ],
      "execution_count": null,
      "outputs": []
    },
    {
      "cell_type": "code",
      "metadata": {
        "id": "D9RX6Si28Tjq",
        "colab": {
          "base_uri": "https://localhost:8080/"
        },
        "outputId": "cdada17c-059a-4aa0-f384-9c034d7d0aac"
      },
      "source": [
        "data.dtypes"
      ],
      "execution_count": null,
      "outputs": [
        {
          "output_type": "execute_result",
          "data": {
            "text/plain": [
              "Gender               category\n",
              "Senior Citizen          int64\n",
              "Partner              category\n",
              "Dependents           category\n",
              "Tenure                  int64\n",
              "Phone Service        category\n",
              "Multiple Lines       category\n",
              "Internet Service     category\n",
              "Online Security      category\n",
              "Online Backup        category\n",
              "Device Protection    category\n",
              "Tech Support         category\n",
              "Streaming TV         category\n",
              "Streaming Movies     category\n",
              "Contract             category\n",
              "Paperless Billing    category\n",
              "Payment Method       category\n",
              "Monthly Charges       float64\n",
              "Total Charges         float64\n",
              "Churn                category\n",
              "dtype: object"
            ]
          },
          "metadata": {
            "tags": []
          },
          "execution_count": 45
        }
      ]
    },
    {
      "cell_type": "code",
      "metadata": {
        "id": "Imb4HuZl8Wd-"
      },
      "source": [
        "#dictionary to store mapping\n",
        "col_cat_dict = {}\n",
        "#numerical encoding the catecogrical columns using function cat codes\n",
        "for col in categorical_columns:\n",
        "  col_cat_dict[col] = dict(enumerate(data[col].cat.categories))\n",
        "  data[col] = data[col].cat.codes\n",
        "  data[col] = data[col].astype('category')"
      ],
      "execution_count": null,
      "outputs": []
    },
    {
      "cell_type": "code",
      "metadata": {
        "id": "njD5JFenX6Ix",
        "colab": {
          "base_uri": "https://localhost:8080/"
        },
        "outputId": "7d619f7b-d325-4470-b86c-f11fba3aeb4b"
      },
      "source": [
        "col_cat_dict"
      ],
      "execution_count": null,
      "outputs": [
        {
          "output_type": "execute_result",
          "data": {
            "text/plain": [
              "{'Churn': {0: 'No', 1: 'Yes'},\n",
              " 'Contract': {0: 'Month-to-month', 1: 'One year', 2: 'Two year'},\n",
              " 'Dependents': {0: 'No', 1: 'Yes'},\n",
              " 'Device Protection': {0: 'No', 1: 'No internet service', 2: 'Yes'},\n",
              " 'Gender': {0: 'Female', 1: 'Male'},\n",
              " 'Internet Service': {0: 'DSL', 1: 'Fiber optic', 2: 'No'},\n",
              " 'Multiple Lines': {0: 'No', 1: 'No phone service', 2: 'Yes'},\n",
              " 'Online Backup': {0: 'No', 1: 'No internet service', 2: 'Yes'},\n",
              " 'Online Security': {0: 'No', 1: 'No internet service', 2: 'Yes'},\n",
              " 'Paperless Billing': {0: 'No', 1: 'Yes'},\n",
              " 'Partner': {0: 'No', 1: 'Yes'},\n",
              " 'Payment Method': {0: 'Bank transfer (automatic)',\n",
              "  1: 'Credit card (automatic)',\n",
              "  2: 'Electronic check',\n",
              "  3: 'Mailed check'},\n",
              " 'Phone Service': {0: 'No', 1: 'Yes'},\n",
              " 'Streaming Movies': {0: 'No', 1: 'No internet service', 2: 'Yes'},\n",
              " 'Streaming TV': {0: 'No', 1: 'No internet service', 2: 'Yes'},\n",
              " 'Tech Support': {0: 'No', 1: 'No internet service', 2: 'Yes'}}"
            ]
          },
          "metadata": {
            "tags": []
          },
          "execution_count": 47
        }
      ]
    },
    {
      "cell_type": "code",
      "metadata": {
        "id": "YoR1MJ8Zl31V",
        "colab": {
          "base_uri": "https://localhost:8080/"
        },
        "outputId": "b8187bca-78f7-47d9-9918-b1eaa707bc73"
      },
      "source": [
        "data.dtypes"
      ],
      "execution_count": null,
      "outputs": [
        {
          "output_type": "execute_result",
          "data": {
            "text/plain": [
              "Gender               category\n",
              "Senior Citizen          int64\n",
              "Partner              category\n",
              "Dependents           category\n",
              "Tenure                  int64\n",
              "Phone Service        category\n",
              "Multiple Lines       category\n",
              "Internet Service     category\n",
              "Online Security      category\n",
              "Online Backup        category\n",
              "Device Protection    category\n",
              "Tech Support         category\n",
              "Streaming TV         category\n",
              "Streaming Movies     category\n",
              "Contract             category\n",
              "Paperless Billing    category\n",
              "Payment Method       category\n",
              "Monthly Charges       float64\n",
              "Total Charges         float64\n",
              "Churn                category\n",
              "dtype: object"
            ]
          },
          "metadata": {
            "tags": []
          },
          "execution_count": 48
        }
      ]
    },
    {
      "cell_type": "code",
      "metadata": {
        "id": "vVp_bBZ-88S1",
        "colab": {
          "base_uri": "https://localhost:8080/",
          "height": 243
        },
        "outputId": "17506f9b-a7c4-420e-da8f-3cf93f137d20"
      },
      "source": [
        "data.head()"
      ],
      "execution_count": null,
      "outputs": [
        {
          "output_type": "execute_result",
          "data": {
            "text/html": [
              "<div>\n",
              "<style scoped>\n",
              "    .dataframe tbody tr th:only-of-type {\n",
              "        vertical-align: middle;\n",
              "    }\n",
              "\n",
              "    .dataframe tbody tr th {\n",
              "        vertical-align: top;\n",
              "    }\n",
              "\n",
              "    .dataframe thead th {\n",
              "        text-align: right;\n",
              "    }\n",
              "</style>\n",
              "<table border=\"1\" class=\"dataframe\">\n",
              "  <thead>\n",
              "    <tr style=\"text-align: right;\">\n",
              "      <th></th>\n",
              "      <th>Gender</th>\n",
              "      <th>Senior Citizen</th>\n",
              "      <th>Partner</th>\n",
              "      <th>Dependents</th>\n",
              "      <th>Tenure</th>\n",
              "      <th>Phone Service</th>\n",
              "      <th>Multiple Lines</th>\n",
              "      <th>Internet Service</th>\n",
              "      <th>Online Security</th>\n",
              "      <th>Online Backup</th>\n",
              "      <th>Device Protection</th>\n",
              "      <th>Tech Support</th>\n",
              "      <th>Streaming TV</th>\n",
              "      <th>Streaming Movies</th>\n",
              "      <th>Contract</th>\n",
              "      <th>Paperless Billing</th>\n",
              "      <th>Payment Method</th>\n",
              "      <th>Monthly Charges</th>\n",
              "      <th>Total Charges</th>\n",
              "      <th>Churn</th>\n",
              "    </tr>\n",
              "  </thead>\n",
              "  <tbody>\n",
              "    <tr>\n",
              "      <th>0</th>\n",
              "      <td>0</td>\n",
              "      <td>0</td>\n",
              "      <td>1</td>\n",
              "      <td>0</td>\n",
              "      <td>1</td>\n",
              "      <td>0</td>\n",
              "      <td>1</td>\n",
              "      <td>0</td>\n",
              "      <td>0</td>\n",
              "      <td>2</td>\n",
              "      <td>0</td>\n",
              "      <td>0</td>\n",
              "      <td>0</td>\n",
              "      <td>0</td>\n",
              "      <td>0</td>\n",
              "      <td>1</td>\n",
              "      <td>2</td>\n",
              "      <td>29.85</td>\n",
              "      <td>29.85</td>\n",
              "      <td>0</td>\n",
              "    </tr>\n",
              "    <tr>\n",
              "      <th>1</th>\n",
              "      <td>1</td>\n",
              "      <td>0</td>\n",
              "      <td>0</td>\n",
              "      <td>0</td>\n",
              "      <td>34</td>\n",
              "      <td>1</td>\n",
              "      <td>0</td>\n",
              "      <td>0</td>\n",
              "      <td>2</td>\n",
              "      <td>0</td>\n",
              "      <td>2</td>\n",
              "      <td>0</td>\n",
              "      <td>0</td>\n",
              "      <td>0</td>\n",
              "      <td>1</td>\n",
              "      <td>0</td>\n",
              "      <td>3</td>\n",
              "      <td>56.95</td>\n",
              "      <td>1889.50</td>\n",
              "      <td>0</td>\n",
              "    </tr>\n",
              "    <tr>\n",
              "      <th>2</th>\n",
              "      <td>1</td>\n",
              "      <td>0</td>\n",
              "      <td>0</td>\n",
              "      <td>0</td>\n",
              "      <td>2</td>\n",
              "      <td>1</td>\n",
              "      <td>0</td>\n",
              "      <td>0</td>\n",
              "      <td>2</td>\n",
              "      <td>2</td>\n",
              "      <td>0</td>\n",
              "      <td>0</td>\n",
              "      <td>0</td>\n",
              "      <td>0</td>\n",
              "      <td>0</td>\n",
              "      <td>1</td>\n",
              "      <td>3</td>\n",
              "      <td>53.85</td>\n",
              "      <td>108.15</td>\n",
              "      <td>1</td>\n",
              "    </tr>\n",
              "    <tr>\n",
              "      <th>3</th>\n",
              "      <td>1</td>\n",
              "      <td>0</td>\n",
              "      <td>0</td>\n",
              "      <td>0</td>\n",
              "      <td>45</td>\n",
              "      <td>0</td>\n",
              "      <td>1</td>\n",
              "      <td>0</td>\n",
              "      <td>2</td>\n",
              "      <td>0</td>\n",
              "      <td>2</td>\n",
              "      <td>2</td>\n",
              "      <td>0</td>\n",
              "      <td>0</td>\n",
              "      <td>1</td>\n",
              "      <td>0</td>\n",
              "      <td>0</td>\n",
              "      <td>42.30</td>\n",
              "      <td>1840.75</td>\n",
              "      <td>0</td>\n",
              "    </tr>\n",
              "    <tr>\n",
              "      <th>4</th>\n",
              "      <td>0</td>\n",
              "      <td>0</td>\n",
              "      <td>0</td>\n",
              "      <td>0</td>\n",
              "      <td>2</td>\n",
              "      <td>1</td>\n",
              "      <td>0</td>\n",
              "      <td>1</td>\n",
              "      <td>0</td>\n",
              "      <td>0</td>\n",
              "      <td>0</td>\n",
              "      <td>0</td>\n",
              "      <td>0</td>\n",
              "      <td>0</td>\n",
              "      <td>0</td>\n",
              "      <td>1</td>\n",
              "      <td>2</td>\n",
              "      <td>70.70</td>\n",
              "      <td>151.65</td>\n",
              "      <td>1</td>\n",
              "    </tr>\n",
              "  </tbody>\n",
              "</table>\n",
              "</div>"
            ],
            "text/plain": [
              "  Gender  Senior Citizen Partner  ... Monthly Charges  Total Charges Churn\n",
              "0      0               0       1  ...           29.85          29.85     0\n",
              "1      1               0       0  ...           56.95        1889.50     0\n",
              "2      1               0       0  ...           53.85         108.15     1\n",
              "3      1               0       0  ...           42.30        1840.75     0\n",
              "4      0               0       0  ...           70.70         151.65     1\n",
              "\n",
              "[5 rows x 20 columns]"
            ]
          },
          "metadata": {
            "tags": []
          },
          "execution_count": 49
        }
      ]
    },
    {
      "cell_type": "markdown",
      "metadata": {
        "id": "6Jx5brsmF43P"
      },
      "source": [
        "## **4.3 Handling missing values**"
      ]
    },
    {
      "cell_type": "markdown",
      "metadata": {
        "id": "m_fg3KJaG0Gs"
      },
      "source": [
        "Filling the NaN values for the categorical column with mode\n",
        " \n",
        "Filling the NAN vaules for the continous columns with mean"
      ]
    },
    {
      "cell_type": "code",
      "metadata": {
        "id": "65SuR9eUF-GI"
      },
      "source": [
        "for col in categorical_columns:\n",
        "  data[col] = data[col].fillna(data[col].mode())\n",
        "\n",
        "for col in continous_columns:\n",
        "  data[col] = data[col].fillna(data[col].mean())"
      ],
      "execution_count": null,
      "outputs": []
    },
    {
      "cell_type": "code",
      "metadata": {
        "id": "Xsj9YsbXJHQj",
        "colab": {
          "base_uri": "https://localhost:8080/"
        },
        "outputId": "52c846b4-70c6-4423-c505-b6e0c990e376"
      },
      "source": [
        "#Checking wether there is any NAN values\n",
        "data.isnull().sum() "
      ],
      "execution_count": null,
      "outputs": [
        {
          "output_type": "execute_result",
          "data": {
            "text/plain": [
              "Gender               0\n",
              "Senior Citizen       0\n",
              "Partner              0\n",
              "Dependents           0\n",
              "Tenure               0\n",
              "Phone Service        0\n",
              "Multiple Lines       0\n",
              "Internet Service     0\n",
              "Online Security      0\n",
              "Online Backup        0\n",
              "Device Protection    0\n",
              "Tech Support         0\n",
              "Streaming TV         0\n",
              "Streaming Movies     0\n",
              "Contract             0\n",
              "Paperless Billing    0\n",
              "Payment Method       0\n",
              "Monthly Charges      0\n",
              "Total Charges        0\n",
              "Churn                0\n",
              "dtype: int64"
            ]
          },
          "metadata": {
            "tags": []
          },
          "execution_count": 51
        }
      ]
    },
    {
      "cell_type": "markdown",
      "metadata": {
        "id": "SawDJg_e90dq"
      },
      "source": [
        "## **5.Training to get the variable importance**"
      ]
    },
    {
      "cell_type": "code",
      "metadata": {
        "id": "dKfEnMtO90pz"
      },
      "source": [
        "feature = data.columns.tolist()\n",
        "feature.remove('Churn')\n",
        "\n",
        "X = data[ feature]\n",
        "\n",
        "y = data['Churn']"
      ],
      "execution_count": null,
      "outputs": []
    },
    {
      "cell_type": "code",
      "metadata": {
        "id": "4uTsHffv3TCh",
        "colab": {
          "base_uri": "https://localhost:8080/"
        },
        "outputId": "a06aa19b-13d1-4666-96de-f77eb954b4d7"
      },
      "source": [
        "dtree=DecisionTreeClassifier()\n",
        "dtree.fit(X,y)"
      ],
      "execution_count": null,
      "outputs": [
        {
          "output_type": "execute_result",
          "data": {
            "text/plain": [
              "DecisionTreeClassifier(ccp_alpha=0.0, class_weight=None, criterion='gini',\n",
              "                       max_depth=None, max_features=None, max_leaf_nodes=None,\n",
              "                       min_impurity_decrease=0.0, min_impurity_split=None,\n",
              "                       min_samples_leaf=1, min_samples_split=2,\n",
              "                       min_weight_fraction_leaf=0.0, presort='deprecated',\n",
              "                       random_state=None, splitter='best')"
            ]
          },
          "metadata": {
            "tags": []
          },
          "execution_count": 53
        }
      ]
    },
    {
      "cell_type": "markdown",
      "metadata": {
        "id": "heybKfNRSHcu"
      },
      "source": [
        "## **6.1.Feature Importance**"
      ]
    },
    {
      "cell_type": "code",
      "metadata": {
        "id": "LEnfN2sJiMjT",
        "colab": {
          "base_uri": "https://localhost:8080/",
          "height": 594
        },
        "outputId": "f27a7cf1-329f-4805-aa88-a1d9a9237768"
      },
      "source": [
        "importance = dtree.feature_importances_\n",
        "from matplotlib import pyplot\n",
        "\n",
        "for i,v in enumerate(importance):\n",
        "\tprint('Feature: %0d, Score: %.5f' % (i,v))\n",
        "\n",
        "\n",
        "pyplot.bar([x for x in range(len(importance))], importance)\n",
        "pyplot.show()\n",
        "var_imp = importance.tolist()"
      ],
      "execution_count": null,
      "outputs": [
        {
          "output_type": "stream",
          "text": [
            "Feature: 0, Score: 0.02582\n",
            "Feature: 1, Score: 0.02087\n",
            "Feature: 2, Score: 0.01498\n",
            "Feature: 3, Score: 0.01503\n",
            "Feature: 4, Score: 0.10684\n",
            "Feature: 5, Score: 0.00130\n",
            "Feature: 6, Score: 0.01989\n",
            "Feature: 7, Score: 0.02770\n",
            "Feature: 8, Score: 0.04479\n",
            "Feature: 9, Score: 0.01653\n",
            "Feature: 10, Score: 0.01314\n",
            "Feature: 11, Score: 0.01820\n",
            "Feature: 12, Score: 0.00900\n",
            "Feature: 13, Score: 0.01126\n",
            "Feature: 14, Score: 0.16950\n",
            "Feature: 15, Score: 0.02090\n",
            "Feature: 16, Score: 0.04635\n",
            "Feature: 17, Score: 0.20785\n",
            "Feature: 18, Score: 0.21006\n"
          ],
          "name": "stdout"
        },
        {
          "output_type": "display_data",
          "data": {
            "image/png": "[encoded data removed]",
            "text/plain": [
              "<Figure size 432x288 with 1 Axes>"
            ]
          },
          "metadata": {
            "tags": [],
            "needs_background": "light"
          }
        }
      ]
    },
    {
      "cell_type": "code",
      "metadata": {
        "id": "H1mIw53_-2J4",
        "colab": {
          "base_uri": "https://localhost:8080/",
          "height": 644
        },
        "outputId": "0589a043-0384-4aad-b9ea-5f4a0b8e25a0"
      },
      "source": [
        "feature = data.columns.tolist()\n",
        "feature.remove('Churn')\n",
        "\n",
        "df_varimp =  DataFrame (feature,columns=['Features'])\n",
        "df_varimp[\"var_imp\"] =var_imp\n",
        "df_varimp_sorted=df_varimp.sort_values(by=['var_imp'],ascending=False)\n",
        "df_varimp_sorted\n",
        "\n"
      ],
      "execution_count": null,
      "outputs": [
        {
          "output_type": "execute_result",
          "data": {
            "text/html": [
              "<div>\n",
              "<style scoped>\n",
              "    .dataframe tbody tr th:only-of-type {\n",
              "        vertical-align: middle;\n",
              "    }\n",
              "\n",
              "    .dataframe tbody tr th {\n",
              "        vertical-align: top;\n",
              "    }\n",
              "\n",
              "    .dataframe thead th {\n",
              "        text-align: right;\n",
              "    }\n",
              "</style>\n",
              "<table border=\"1\" class=\"dataframe\">\n",
              "  <thead>\n",
              "    <tr style=\"text-align: right;\">\n",
              "      <th></th>\n",
              "      <th>Features</th>\n",
              "      <th>var_imp</th>\n",
              "    </tr>\n",
              "  </thead>\n",
              "  <tbody>\n",
              "    <tr>\n",
              "      <th>18</th>\n",
              "      <td>Total Charges</td>\n",
              "      <td>0.210063</td>\n",
              "    </tr>\n",
              "    <tr>\n",
              "      <th>17</th>\n",
              "      <td>Monthly Charges</td>\n",
              "      <td>0.207847</td>\n",
              "    </tr>\n",
              "    <tr>\n",
              "      <th>14</th>\n",
              "      <td>Contract</td>\n",
              "      <td>0.169505</td>\n",
              "    </tr>\n",
              "    <tr>\n",
              "      <th>4</th>\n",
              "      <td>Tenure</td>\n",
              "      <td>0.106837</td>\n",
              "    </tr>\n",
              "    <tr>\n",
              "      <th>16</th>\n",
              "      <td>Payment Method</td>\n",
              "      <td>0.046349</td>\n",
              "    </tr>\n",
              "    <tr>\n",
              "      <th>8</th>\n",
              "      <td>Online Security</td>\n",
              "      <td>0.044788</td>\n",
              "    </tr>\n",
              "    <tr>\n",
              "      <th>7</th>\n",
              "      <td>Internet Service</td>\n",
              "      <td>0.027699</td>\n",
              "    </tr>\n",
              "    <tr>\n",
              "      <th>0</th>\n",
              "      <td>Gender</td>\n",
              "      <td>0.025821</td>\n",
              "    </tr>\n",
              "    <tr>\n",
              "      <th>15</th>\n",
              "      <td>Paperless Billing</td>\n",
              "      <td>0.020903</td>\n",
              "    </tr>\n",
              "    <tr>\n",
              "      <th>1</th>\n",
              "      <td>Senior Citizen</td>\n",
              "      <td>0.020871</td>\n",
              "    </tr>\n",
              "    <tr>\n",
              "      <th>6</th>\n",
              "      <td>Multiple Lines</td>\n",
              "      <td>0.019887</td>\n",
              "    </tr>\n",
              "    <tr>\n",
              "      <th>11</th>\n",
              "      <td>Tech Support</td>\n",
              "      <td>0.018196</td>\n",
              "    </tr>\n",
              "    <tr>\n",
              "      <th>9</th>\n",
              "      <td>Online Backup</td>\n",
              "      <td>0.016530</td>\n",
              "    </tr>\n",
              "    <tr>\n",
              "      <th>3</th>\n",
              "      <td>Dependents</td>\n",
              "      <td>0.015025</td>\n",
              "    </tr>\n",
              "    <tr>\n",
              "      <th>2</th>\n",
              "      <td>Partner</td>\n",
              "      <td>0.014978</td>\n",
              "    </tr>\n",
              "    <tr>\n",
              "      <th>10</th>\n",
              "      <td>Device Protection</td>\n",
              "      <td>0.013145</td>\n",
              "    </tr>\n",
              "    <tr>\n",
              "      <th>13</th>\n",
              "      <td>Streaming Movies</td>\n",
              "      <td>0.011257</td>\n",
              "    </tr>\n",
              "    <tr>\n",
              "      <th>12</th>\n",
              "      <td>Streaming TV</td>\n",
              "      <td>0.009001</td>\n",
              "    </tr>\n",
              "    <tr>\n",
              "      <th>5</th>\n",
              "      <td>Phone Service</td>\n",
              "      <td>0.001298</td>\n",
              "    </tr>\n",
              "  </tbody>\n",
              "</table>\n",
              "</div>"
            ],
            "text/plain": [
              "             Features   var_imp\n",
              "18      Total Charges  0.210063\n",
              "17    Monthly Charges  0.207847\n",
              "14           Contract  0.169505\n",
              "4              Tenure  0.106837\n",
              "16     Payment Method  0.046349\n",
              "8     Online Security  0.044788\n",
              "7    Internet Service  0.027699\n",
              "0              Gender  0.025821\n",
              "15  Paperless Billing  0.020903\n",
              "1      Senior Citizen  0.020871\n",
              "6      Multiple Lines  0.019887\n",
              "11       Tech Support  0.018196\n",
              "9       Online Backup  0.016530\n",
              "3          Dependents  0.015025\n",
              "2             Partner  0.014978\n",
              "10  Device Protection  0.013145\n",
              "13   Streaming Movies  0.011257\n",
              "12       Streaming TV  0.009001\n",
              "5       Phone Service  0.001298"
            ]
          },
          "metadata": {
            "tags": []
          },
          "execution_count": 55
        }
      ]
    },
    {
      "cell_type": "markdown",
      "metadata": {
        "id": "bAtVsh-yS0cJ"
      },
      "source": [
        "## **6.2.Feature Selection**\n",
        "\n",
        "thres is set 0.05 which configurable"
      ]
    },
    {
      "cell_type": "code",
      "metadata": {
        "id": "A1H_6Zar-sc3"
      },
      "source": [
        "thres = 0.05\n",
        "imp_data = df_varimp_sorted[df_varimp_sorted['var_imp']>thres]\n",
        "feat = imp_data['Features']\n"
      ],
      "execution_count": null,
      "outputs": []
    },
    {
      "cell_type": "code",
      "metadata": {
        "id": "nsB_-H-H-si_",
        "colab": {
          "base_uri": "https://localhost:8080/",
          "height": 423
        },
        "outputId": "34c91450-f283-4457-8e23-7e127ba6bdb8"
      },
      "source": [
        "data [feat]"
      ],
      "execution_count": null,
      "outputs": [
        {
          "output_type": "execute_result",
          "data": {
            "text/html": [
              "<div>\n",
              "<style scoped>\n",
              "    .dataframe tbody tr th:only-of-type {\n",
              "        vertical-align: middle;\n",
              "    }\n",
              "\n",
              "    .dataframe tbody tr th {\n",
              "        vertical-align: top;\n",
              "    }\n",
              "\n",
              "    .dataframe thead th {\n",
              "        text-align: right;\n",
              "    }\n",
              "</style>\n",
              "<table border=\"1\" class=\"dataframe\">\n",
              "  <thead>\n",
              "    <tr style=\"text-align: right;\">\n",
              "      <th></th>\n",
              "      <th>Total Charges</th>\n",
              "      <th>Monthly Charges</th>\n",
              "      <th>Contract</th>\n",
              "      <th>Tenure</th>\n",
              "    </tr>\n",
              "  </thead>\n",
              "  <tbody>\n",
              "    <tr>\n",
              "      <th>0</th>\n",
              "      <td>29.85</td>\n",
              "      <td>29.85</td>\n",
              "      <td>0</td>\n",
              "      <td>1</td>\n",
              "    </tr>\n",
              "    <tr>\n",
              "      <th>1</th>\n",
              "      <td>1889.50</td>\n",
              "      <td>56.95</td>\n",
              "      <td>1</td>\n",
              "      <td>34</td>\n",
              "    </tr>\n",
              "    <tr>\n",
              "      <th>2</th>\n",
              "      <td>108.15</td>\n",
              "      <td>53.85</td>\n",
              "      <td>0</td>\n",
              "      <td>2</td>\n",
              "    </tr>\n",
              "    <tr>\n",
              "      <th>3</th>\n",
              "      <td>1840.75</td>\n",
              "      <td>42.30</td>\n",
              "      <td>1</td>\n",
              "      <td>45</td>\n",
              "    </tr>\n",
              "    <tr>\n",
              "      <th>4</th>\n",
              "      <td>151.65</td>\n",
              "      <td>70.70</td>\n",
              "      <td>0</td>\n",
              "      <td>2</td>\n",
              "    </tr>\n",
              "    <tr>\n",
              "      <th>...</th>\n",
              "      <td>...</td>\n",
              "      <td>...</td>\n",
              "      <td>...</td>\n",
              "      <td>...</td>\n",
              "    </tr>\n",
              "    <tr>\n",
              "      <th>6494</th>\n",
              "      <td>786.50</td>\n",
              "      <td>29.80</td>\n",
              "      <td>0</td>\n",
              "      <td>26</td>\n",
              "    </tr>\n",
              "    <tr>\n",
              "      <th>6495</th>\n",
              "      <td>69.65</td>\n",
              "      <td>69.65</td>\n",
              "      <td>0</td>\n",
              "      <td>1</td>\n",
              "    </tr>\n",
              "    <tr>\n",
              "      <th>6496</th>\n",
              "      <td>4086.30</td>\n",
              "      <td>101.85</td>\n",
              "      <td>0</td>\n",
              "      <td>40</td>\n",
              "    </tr>\n",
              "    <tr>\n",
              "      <th>6497</th>\n",
              "      <td>5364.80</td>\n",
              "      <td>103.05</td>\n",
              "      <td>0</td>\n",
              "      <td>52</td>\n",
              "    </tr>\n",
              "    <tr>\n",
              "      <th>6498</th>\n",
              "      <td>82.30</td>\n",
              "      <td>82.30</td>\n",
              "      <td>0</td>\n",
              "      <td>1</td>\n",
              "    </tr>\n",
              "  </tbody>\n",
              "</table>\n",
              "<p>6499 rows × 4 columns</p>\n",
              "</div>"
            ],
            "text/plain": [
              "      Total Charges  Monthly Charges Contract  Tenure\n",
              "0             29.85            29.85        0       1\n",
              "1           1889.50            56.95        1      34\n",
              "2            108.15            53.85        0       2\n",
              "3           1840.75            42.30        1      45\n",
              "4            151.65            70.70        0       2\n",
              "...             ...              ...      ...     ...\n",
              "6494         786.50            29.80        0      26\n",
              "6495          69.65            69.65        0       1\n",
              "6496        4086.30           101.85        0      40\n",
              "6497        5364.80           103.05        0      52\n",
              "6498          82.30            82.30        0       1\n",
              "\n",
              "[6499 rows x 4 columns]"
            ]
          },
          "metadata": {
            "tags": []
          },
          "execution_count": 57
        }
      ]
    },
    {
      "cell_type": "markdown",
      "metadata": {
        "id": "C9MkiEAWCNyO"
      },
      "source": [
        "### **7.1.Train ,Validation and Test split**\n",
        "\n",
        "Data is split into 3 parts\n",
        "\n",
        "Taining data set = 80.75%\n",
        "\n",
        "Validation data set = 14.25%\n",
        "\n",
        "Test data set = 5%"
      ]
    },
    {
      "cell_type": "code",
      "metadata": {
        "id": "kabmiPUVCX0O"
      },
      "source": [
        "from sklearn.model_selection import  train_test_split\n",
        "\n",
        "columns = data[feat].columns\n",
        "\n",
        "X = data[feat]\n",
        "\n",
        "y = data['Churn']\n",
        "\n",
        "X_t, X_test, y_t, y_test = train_test_split(X, y, test_size=0.05, random_state=1)\n",
        "\n",
        "X_train, X_val, y_train, y_val = train_test_split(X_t, y_t, test_size=0.15, random_state=1)"
      ],
      "execution_count": null,
      "outputs": []
    },
    {
      "cell_type": "markdown",
      "metadata": {
        "id": "UVh5r_sdBUFg"
      },
      "source": [
        "### **7.2.Processing data for decision tree**"
      ]
    },
    {
      "cell_type": "code",
      "metadata": {
        "id": "Gd2X4rCBtrf1"
      },
      "source": [
        "feature = data.columns\n",
        "y = data['Churn']\n",
        "data = data.drop(('Churn'),axis = 1)\n",
        "data = data.fillna(0)"
      ],
      "execution_count": null,
      "outputs": []
    },
    {
      "cell_type": "markdown",
      "metadata": {
        "id": "00NlUx779OIg"
      },
      "source": [
        "## **8. Tunning the Hyperparmeter**\n",
        "\n",
        "Using grid search for Hyperparmeter tunning, even randomized grid search can be employed for doing grid search which will faster than normal grid search."
      ]
    },
    {
      "cell_type": "code",
      "metadata": {
        "id": "GKw9BouPRkQ5"
      },
      "source": [
        "from sklearn.model_selection import GridSearchCV"
      ],
      "execution_count": null,
      "outputs": []
    },
    {
      "cell_type": "code",
      "metadata": {
        "id": "FbHqyrLJR6Fm"
      },
      "source": [
        "depths = np.arange(2, 5)\n",
        "num_leafs = [ 20,30,40,50]\n",
        "nodes =np.arange(24, 30)\n",
        "criteria = ['entropy']\n",
        "split = ['best', 'random']"
      ],
      "execution_count": null,
      "outputs": []
    },
    {
      "cell_type": "code",
      "metadata": {
        "id": "CZ5TQHRmRtC6"
      },
      "source": [
        "param_grid = [{'max_depth':depths,\n",
        "              'min_samples_leaf':num_leafs,'max_leaf_nodes':nodes,'criterion':criteria}]"
      ],
      "execution_count": null,
      "outputs": []
    },
    {
      "cell_type": "code",
      "metadata": {
        "id": "LPH31Vk5R_4J"
      },
      "source": [
        "grid = GridSearchCV(dtree, param_grid, cv=10, scoring='accuracy',verbose=1)"
      ],
      "execution_count": null,
      "outputs": []
    },
    {
      "cell_type": "code",
      "metadata": {
        "id": "bNhb-bDTSPeL",
        "colab": {
          "base_uri": "https://localhost:8080/"
        },
        "outputId": "ce2afff8-fe01-482d-be43-8ffdf01534da"
      },
      "source": [
        "s = grid.fit(X_val, y_val)"
      ],
      "execution_count": null,
      "outputs": [
        {
          "output_type": "stream",
          "text": [
            "Fitting 10 folds for each of 72 candidates, totalling 720 fits\n"
          ],
          "name": "stdout"
        },
        {
          "output_type": "stream",
          "text": [
            "[Parallel(n_jobs=1)]: Using backend SequentialBackend with 1 concurrent workers.\n",
            "[Parallel(n_jobs=1)]: Done 720 out of 720 | elapsed:    4.5s finished\n"
          ],
          "name": "stderr"
        }
      ]
    },
    {
      "cell_type": "code",
      "metadata": {
        "id": "XMRl8yMiSji0",
        "colab": {
          "base_uri": "https://localhost:8080/"
        },
        "outputId": "e3c6b50d-35d7-4f8f-cb4c-102cca8d9cf0"
      },
      "source": [
        "# examine the best model\n",
        "\n",
        "# Single best score achieved across all params (min_samples_split)\n",
        "print(grid.best_score_)\n",
        "\n",
        "# Dictionary containing the parameters (min_samples_split) used to generate that score\n",
        "print(grid.best_params_)\n",
        "\n",
        "# Actual model object fit with those best parameters\n",
        "# Shows default parameters that we did not specify\n",
        "print(grid.best_estimator_)"
      ],
      "execution_count": null,
      "outputs": [
        {
          "output_type": "stream",
          "text": [
            "0.764866760168303\n",
            "{'criterion': 'entropy', 'max_depth': 3, 'max_leaf_nodes': 24, 'min_samples_leaf': 50}\n",
            "DecisionTreeClassifier(ccp_alpha=0.0, class_weight=None, criterion='entropy',\n",
            "                       max_depth=3, max_features=None, max_leaf_nodes=24,\n",
            "                       min_impurity_decrease=0.0, min_impurity_split=None,\n",
            "                       min_samples_leaf=50, min_samples_split=2,\n",
            "                       min_weight_fraction_leaf=0.0, presort='deprecated',\n",
            "                       random_state=None, splitter='best')\n"
          ],
          "name": "stdout"
        }
      ]
    },
    {
      "cell_type": "markdown",
      "metadata": {
        "id": "F1vZik-bTe8x"
      },
      "source": [
        "## **9. Training important Features**\n",
        "\n",
        "\n",
        "After the hyperparameter tunning\n",
        "\n",
        "**max_depth**: 3\n",
        "\n",
        "**max_leaf_nodes**: 24 \n",
        "\n",
        "**min_samples_leaf**: 50"
      ]
    },
    {
      "cell_type": "code",
      "metadata": {
        "id": "6Webfv5tXGMQ"
      },
      "source": [
        "dtree=DecisionTreeClassifier(max_depth= 3, max_leaf_nodes= 24, min_samples_leaf= 50,criterion='entropy')\n",
        "model = dtree.fit(X_train,y_train)"
      ],
      "execution_count": null,
      "outputs": []
    },
    {
      "cell_type": "code",
      "metadata": {
        "id": "XnKGeqZIW0nk",
        "colab": {
          "base_uri": "https://localhost:8080/"
        },
        "outputId": "f753c7f5-04fd-40d7-9c4e-f6a6404a01c7"
      },
      "source": [
        "y_predicted = model.predict(X_test)\n",
        "# calculate accuracy\n",
        "from sklearn import metrics\n",
        "print(metrics.accuracy_score(y_test, y_predicted))\n"
      ],
      "execution_count": null,
      "outputs": [
        {
          "output_type": "stream",
          "text": [
            "0.76\n"
          ],
          "name": "stdout"
        }
      ]
    },
    {
      "cell_type": "code",
      "metadata": {
        "id": "j1wakVklYN5N",
        "colab": {
          "base_uri": "https://localhost:8080/"
        },
        "outputId": "4a89a6c7-c167-4a37-8ab2-ae9ee4e8525e"
      },
      "source": [
        "from sklearn.metrics import confusion_matrix\n",
        "confusion_matrix(y_test, y_predicted)"
      ],
      "execution_count": null,
      "outputs": [
        {
          "output_type": "execute_result",
          "data": {
            "text/plain": [
              "array([[226,  13],\n",
              "       [ 65,  21]])"
            ]
          },
          "metadata": {
            "tags": []
          },
          "execution_count": 68
        }
      ]
    },
    {
      "cell_type": "code",
      "metadata": {
        "id": "CtVIQaiAcxgP",
        "colab": {
          "base_uri": "https://localhost:8080/",
          "height": 282
        },
        "outputId": "bda5500a-d6d6-4ed0-ef5e-074c7ea26666"
      },
      "source": [
        "from sklearn.metrics import plot_confusion_matrix\n",
        "import matplotlib.pyplot as plt\n",
        "\n",
        "plot_confusion_matrix(model, X_test, y_test)  \n",
        "plt.show() "
      ],
      "execution_count": null,
      "outputs": [
        {
          "output_type": "display_data",
          "data": {
            "image/png": "[encoded data removed]",
            "text/plain": [
              "<Figure size 432x288 with 2 Axes>"
            ]
          },
          "metadata": {
            "tags": [],
            "needs_background": "light"
          }
        }
      ]
    },
    {
      "cell_type": "markdown",
      "metadata": {
        "id": "pqk7g_8edy-y"
      },
      "source": [
        "## **10. Conclusion**\n",
        "\n",
        "So finally the model predictions is good and we can predict customer churn with 76% accuracy."
      ]
    },
    {
      "cell_type": "markdown",
      "metadata": {
        "id": "h3uCMzZydzHG"
      },
      "source": [
        "## **11.Reference**\n",
        "\n",
        "https://scikit-learn.org/stable/modules/tree.html\n",
        "\n",
        "Copyright 2020 Abhishek Gargha Maheshwarappa\n",
        "\n",
        "Permission is hereby granted, free of charge, to any person obtaining a copy of this software and associated documentation files (the \"Software\"), to deal in the Software without restriction, including without limitation the rights to use, copy, modify, merge, publish, distribute, sublicense, and/or sell copies of the Software, and to permit persons to whom the Software is furnished to do so, subject to the following conditions:\n",
        "\n",
        "The above copyright notice and this permission notice shall be included in all copies or substantial portions of the Software.\n",
        "\n",
        "THE SOFTWARE IS PROVIDED \"AS IS\", WITHOUT WARRANTY OF ANY KIND, EXPRESS OR IMPLIED, INCLUDING BUT NOT LIMITED TO THE WARRANTIES OF MERCHANTABILITY, FITNESS FOR A PARTICULAR PURPOSE AND NONINFRINGEMENT. IN NO EVENT SHALL THE AUTHORS OR COPYRIGHT HOLDERS BE LIABLE FOR ANY CLAIM, DAMAGES OR OTHER LIABILITY, WHETHER IN AN ACTION OF CONTRACT, TORT OR OTHERWISE, ARISING FROM, OUT OF OR IN CONNECTION WITH THE SOFTWARE OR THE USE OR OTHER DEALINGS IN THE SOFTWARE."
      ]
    }
  ]
}